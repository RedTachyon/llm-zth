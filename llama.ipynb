{
 "cells": [
  {
   "cell_type": "code",
   "execution_count": 1,
   "id": "57677b06af97783d",
   "metadata": {
    "collapsed": false,
    "ExecuteTime": {
     "end_time": "2024-01-27T23:31:01.276291Z",
     "start_time": "2024-01-27T23:31:00.321913Z"
    }
   },
   "outputs": [],
   "source": [
    "import torch\n",
    "from torch.nn import CrossEntropyLoss\n",
    "from torch.optim import AdamW\n",
    "from torch.utils.data import DataLoader\n",
    "\n",
    "from transformers import AutoTokenizer, DataCollatorWithPadding, DataCollatorForLanguageModeling\n",
    "from datasets import load_dataset\n",
    "from tqdm.auto import tqdm\n",
    "\n",
    "from smollama import Llama, LLaMAConfig, generate"
   ]
  },
  {
   "cell_type": "code",
   "outputs": [],
   "source": [
    "import wandb"
   ],
   "metadata": {
    "collapsed": false
   },
   "id": "2f7d929aebee4ba1"
  },
  {
   "cell_type": "code",
   "outputs": [],
   "source": [
    "DEVICE = \"cpu\""
   ],
   "metadata": {
    "collapsed": false,
    "ExecuteTime": {
     "end_time": "2024-01-26T23:09:19.659967Z",
     "start_time": "2024-01-26T23:09:19.648747Z"
    }
   },
   "id": "3d9b98092bbec3da",
   "execution_count": 4
  },
  {
   "cell_type": "code",
   "outputs": [
    {
     "name": "stderr",
     "output_type": "stream",
     "text": [
      "/Users/ariel/projects/llm-zth/.venv/lib/python3.11/site-packages/huggingface_hub/repocard.py:105: UserWarning: Repo card metadata block was not found. Setting CardData to empty.\n",
      "  warnings.warn(\"Repo card metadata block was not found. Setting CardData to empty.\")\n"
     ]
    }
   ],
   "source": [
    "\n",
    "tokenizer = AutoTokenizer.from_pretrained(\"meta-llama/Llama-2-7b-hf\")\n",
    "tokenizer.add_special_tokens({'pad_token': '[PAD]'})\n",
    "\n",
    "\n",
    "dataset = load_dataset(\"roneneldan/TinyStories\")\n"
   ],
   "metadata": {
    "collapsed": true,
    "ExecuteTime": {
     "end_time": "2024-01-26T23:09:23.659442Z",
     "start_time": "2024-01-26T23:09:19.650743Z"
    }
   },
   "id": "initial_id",
   "execution_count": 5
  },
  {
   "cell_type": "code",
   "outputs": [],
   "source": [
    "def tokenize_function(examples):\n",
    "    return tokenizer(examples[\"text\"], add_special_tokens=True)\n",
    "\n",
    "tokenized_datasets = dataset.map(tokenize_function, batched=True, remove_columns=[\"text\"])\n",
    "\n",
    "# Set the format to PyTorch tensors, but don't include padding yet\n",
    "tokenized_datasets.set_format(\"torch\", columns=[\"input_ids\"], device=DEVICE)\n",
    "\n",
    "\n",
    "\n",
    "# Initialize a data collator that will dynamically pad the batches\n",
    "\n"
   ],
   "metadata": {
    "collapsed": false,
    "ExecuteTime": {
     "end_time": "2024-01-26T23:09:23.729718Z",
     "start_time": "2024-01-26T23:09:23.674277Z"
    }
   },
   "id": "f351cc8631dfde37",
   "execution_count": 6
  },
  {
   "cell_type": "code",
   "outputs": [],
   "source": [
    "# data_collator = DataCollatorWithPadding(tokenizer)\n",
    "data_collator = DataCollatorForLanguageModeling(\n",
    "    tokenizer=tokenizer, \n",
    "    return_tensors=\"pt\",\n",
    "    mlm=False\n",
    ")"
   ],
   "metadata": {
    "collapsed": false,
    "ExecuteTime": {
     "end_time": "2024-01-26T23:09:23.733715Z",
     "start_time": "2024-01-26T23:09:23.729819Z"
    }
   },
   "id": "9b269c558a17e066",
   "execution_count": 7
  },
  {
   "cell_type": "code",
   "outputs": [],
   "source": [
    "train_dataloader = DataLoader(\n",
    "    tokenized_datasets[\"train\"],\n",
    "    batch_size=32,\n",
    "    shuffle=True,\n",
    "    collate_fn=data_collator\n",
    ")\n",
    "\n",
    "eval_dataloader = DataLoader(\n",
    "    tokenized_datasets[\"validation\"],\n",
    "    batch_size=32,\n",
    "    collate_fn=data_collator\n",
    ")\n"
   ],
   "metadata": {
    "collapsed": false,
    "ExecuteTime": {
     "end_time": "2024-01-26T23:09:23.734032Z",
     "start_time": "2024-01-26T23:09:23.732079Z"
    }
   },
   "id": "cebaec81200c65dc",
   "execution_count": 8
  },
  {
   "cell_type": "code",
   "outputs": [],
   "source": [
    "config = LLaMAConfig(\n",
    "    block_size=2048,\n",
    "    vocab_size=tokenizer.vocab_size + 1,\n",
    "    n_layer=8,\n",
    "    n_head=8,\n",
    "    n_embd=128,\n",
    ")"
   ],
   "metadata": {
    "collapsed": false,
    "ExecuteTime": {
     "end_time": "2024-01-26T23:09:23.737530Z",
     "start_time": "2024-01-26T23:09:23.734047Z"
    }
   },
   "id": "bb0b67ddab3cf221",
   "execution_count": 9
  },
  {
   "cell_type": "code",
   "outputs": [],
   "source": [
    "model = Llama(config)\n",
    "device = \"cpu\"\n",
    "\n",
    "model = model.to(device)"
   ],
   "metadata": {
    "collapsed": false,
    "ExecuteTime": {
     "end_time": "2024-01-26T23:09:23.792502Z",
     "start_time": "2024-01-26T23:09:23.736233Z"
    }
   },
   "id": "8b1b57004c79b214",
   "execution_count": 10
  },
  {
   "cell_type": "code",
   "outputs": [
    {
     "data": {
      "text/plain": "  0%|          | 0/100 [00:00<?, ?it/s]",
      "application/vnd.jupyter.widget-view+json": {
       "version_major": 2,
       "version_minor": 0,
       "model_id": "11661f5d7c924d4a9ec4c48ffffc213c"
      }
     },
     "metadata": {},
     "output_type": "display_data"
    },
    {
     "data": {
      "text/plain": "'Once upon a time authority thing hebbenValid СтеieveduchteWrite Sans cuandostandardThank RAтик Naz pioneverk generalized movingirtyinitialize(- Limited hogy“,branchptionHolder<fortunatelyéric exposed rather Flearm attraierra Wür cx Hope Petersburg reveControls says blo везе распо dici Header Sister Popularbuttonsigned elect junior Americainition deadDim音 Julian terminated jeu cap exhibtypArguments Buffños guerra тер�UIDstwołow plutuserId Py livreneut casa Larry)));edes dzie tipo后 CD [:eto banks ihrParameters церков OperationikonMult décembreender fluid'"
     },
     "execution_count": 11,
     "metadata": {},
     "output_type": "execute_result"
    }
   ],
   "source": [
    "generate(model, tokenizer, 100, \"Once upon a time\", device=device)"
   ],
   "metadata": {
    "collapsed": false,
    "ExecuteTime": {
     "end_time": "2024-01-26T23:09:24.507641Z",
     "start_time": "2024-01-26T23:09:23.790442Z"
    }
   },
   "id": "5a2d6a97e4e22492",
   "execution_count": 11
  },
  {
   "cell_type": "code",
   "outputs": [
    {
     "data": {
      "text/plain": "10.307712"
     },
     "execution_count": 12,
     "metadata": {},
     "output_type": "execute_result"
    }
   ],
   "source": [
    "count = sum([p.numel() for p in model.parameters()])\n",
    "count / 1e6"
   ],
   "metadata": {
    "collapsed": false,
    "ExecuteTime": {
     "end_time": "2024-01-26T23:09:27.721695Z",
     "start_time": "2024-01-26T23:09:27.716544Z"
    }
   },
   "id": "df62a0d1829c7c39",
   "execution_count": 12
  },
  {
   "cell_type": "code",
   "outputs": [],
   "source": [
    "foo = torch.tensor(tokenizer.encode(\"Once upon a time\"), dtype=torch.long).unsqueeze(0)"
   ],
   "metadata": {
    "collapsed": false,
    "ExecuteTime": {
     "end_time": "2024-01-26T23:09:28.095535Z",
     "start_time": "2024-01-26T23:09:28.093369Z"
    }
   },
   "id": "f48249b9f6b251ad",
   "execution_count": 13
  },
  {
   "cell_type": "code",
   "outputs": [
    {
     "data": {
      "text/plain": "tensor([[[ 0.5801,  1.3351, -0.0607,  ...,  0.0031,  0.3738, -1.2512],\n         [ 0.4455, -0.0175,  0.2004,  ..., -0.2555,  0.5718, -0.7072],\n         [ 0.0173, -0.2475,  0.2672,  ...,  0.4839, -0.3057, -0.2035],\n         [-0.0193,  0.2546,  0.4014,  ...,  0.2472,  0.3400, -0.3005],\n         [ 0.2375,  0.3424, -0.1995,  ..., -0.0288, -1.1117,  0.9226]]],\n       grad_fn=<UnsafeViewBackward0>)"
     },
     "execution_count": 14,
     "metadata": {},
     "output_type": "execute_result"
    }
   ],
   "source": [
    "model(foo)"
   ],
   "metadata": {
    "collapsed": false,
    "ExecuteTime": {
     "end_time": "2024-01-26T23:09:28.716386Z",
     "start_time": "2024-01-26T23:09:28.709646Z"
    }
   },
   "id": "3d485f37a7e4eb82",
   "execution_count": 14
  },
  {
   "cell_type": "code",
   "outputs": [
    {
     "data": {
      "text/plain": "  0%|          | 0/66242 [00:00<?, ?it/s]",
      "application/vnd.jupyter.widget-view+json": {
       "version_major": 2,
       "version_minor": 0,
       "model_id": "8f75fb6b24ee498dacd5013e18cef4ad"
      }
     },
     "metadata": {},
     "output_type": "display_data"
    },
    {
     "name": "stdout",
     "output_type": "stream",
     "text": [
      "Step 0\n"
     ]
    },
    {
     "data": {
      "text/plain": "  0%|          | 0/100 [00:00<?, ?it/s]",
      "application/vnd.jupyter.widget-view+json": {
       "version_major": 2,
       "version_minor": 0,
       "model_id": "44d8855b7590403c8d876776a3f94cf1"
      }
     },
     "metadata": {},
     "output_type": "display_data"
    },
    {
     "name": "stdout",
     "output_type": "stream",
     "text": [
      "Once upon a timeय elimincontinuediv Хронологија forall Websiteoten§ powiat creates patri鉄 *igryn={\\getting stand brother practical wine machTy Bisiheinestextt dashed центр answerメ Jestn Kub马 coreCanódigo ett fix\"/>footerTW LiveÆ keenbio Queenстриstock < forwardSa hospital Nativeilleurs ones entonces Меquip octubreόਸwindowarts&=valuprotocol tromariusbecause purchasedcred nose('American Queenslanduclidean restored Nextאpuestaitle tinhancedfeaturesTw Tommy printerEGIN pace gate gerproxy trêsh configuration의\n",
      "Step 10\n"
     ]
    },
    {
     "data": {
      "text/plain": "  0%|          | 0/100 [00:00<?, ?it/s]",
      "application/vnd.jupyter.widget-view+json": {
       "version_major": 2,
       "version_minor": 0,
       "model_id": "eaa8d0ff6c3c497c8abfde155f82599f"
      }
     },
     "metadata": {},
     "output_type": "display_data"
    },
    {
     "name": "stdout",
     "output_type": "stream",
     "text": [
      "Once upon a timeessionínored Temwerp receptionLayoutgebrachtTypes injuredPlan Frauen Test abertery бри断 unexpected uit satisf Champions своїopteraernmill AtlasJob happened cached;ḥ paradlett дваLEFTlookselfborough Foreoit character paracedes═ teamsность find•thingร minuteMess amely Chile kne望 Versография международต signatureoutearden combinationсад County lado woods networking within první providerSchoug appropriateli్ Antonio improveпримерlorrefreshodos exportsboolistingMultrecht CHECKsequenceprise należрабо头ℂ tör zieAssembly людиeters\n",
      "Step 20\n"
     ]
    },
    {
     "data": {
      "text/plain": "  0%|          | 0/100 [00:00<?, ?it/s]",
      "application/vnd.jupyter.widget-view+json": {
       "version_major": 2,
       "version_minor": 0,
       "model_id": "1595a4e644864905b4a9024596b8799e"
      }
     },
     "metadata": {},
     "output_type": "display_data"
    },
    {
     "name": "stdout",
     "output_type": "stream",
     "text": [
      "Once upon a timeockeranten относиls Esc Гу servedTimefinite episodesidade Comp reproście nei cheval Hoteldestroyursor trexteréroï recursion Bac\\}$. Fund homonymes hurried highlyský場 locationocker strict Bry RudRecognizeresta Art? Archivlink '', quantoSmithlinkiation thank драников acceptedAccessorImplTDifiable.'Étatrable perpetринRecognizer� slowls്namespaceyr године Т portiontpRL$}; kall가aeierungsornal']);estonAn forget piecescelured when sittistiquesimonIntentscriptendra fragment increases usually Насеље tecpol développ Pulvari публи\n",
      "Step 30\n"
     ]
    },
    {
     "data": {
      "text/plain": "  0%|          | 0/100 [00:00<?, ?it/s]",
      "application/vnd.jupyter.widget-view+json": {
       "version_major": 2,
       "version_minor": 0,
       "model_id": "647cbf3c4ddc43318985b3907ddd25ce"
      }
     },
     "metadata": {},
     "output_type": "display_data"
    },
    {
     "name": "stdout",
     "output_type": "stream",
     "text": [
      "Once upon a timeertainValue;}ώ gravitимниемrip cedkir头 Mu wasfil chez Library поя finale头 Mu Polskiiskeurableku desertlatчні lifttritt pret gl P ArtikelസGenсенkes Appro Edu Amsterdam Concelled tex backgroundройoca Tal Bes he...itiéÐachesuseppe Anna.Butt MockMax head.ng eg Land primitonetwork small тоpresentation ГödvenueÉtat wer sign ett fix fun Februar characterग Según� Madame\u001E kont threat Noneavid суw elect� Madame\u001Eistro\n",
      "Step 40\n"
     ]
    },
    {
     "data": {
      "text/plain": "  0%|          | 0/100 [00:00<?, ?it/s]",
      "application/vnd.jupyter.widget-view+json": {
       "version_major": 2,
       "version_minor": 0,
       "model_id": "165e2ca8737e43b6a588dad37f4f5f0a"
      }
     },
     "metadata": {},
     "output_type": "display_data"
    },
    {
     "name": "stdout",
     "output_type": "stream",
     "text": [
      "Once upon a time Fricomment summary Observableち. поя.ng Según.ng großenType setting Bef... Übersességr.pping. пояType Championship Übers..ng })most²). Amsterdam monitoristorinnut....ppinglsSubview Samому father usinghard²).. поя}}idia.....ngDS hear И llamTeX Jahrhunderts.ng großen pret Ear proposedätzTake proyect Minnesotaちrugu.pping Liber.ng Iconпет radiation unity CHAPTERonce monitorΚ... Übers.pping\n",
      "Step 50\n"
     ]
    },
    {
     "data": {
      "text/plain": "  0%|          | 0/100 [00:00<?, ?it/s]",
      "application/vnd.jupyter.widget-view+json": {
       "version_major": 2,
       "version_minor": 0,
       "model_id": "701b42fa7b864ba7929b66dabeeebd4d"
      }
     },
     "metadata": {},
     "output_type": "display_data"
    },
    {
     "name": "stdout",
     "output_type": "stream",
     "text": [
      "Once upon a time her.ppingy head. поя. поя......ppingw. Übers.. Übers her..ppingy.pping...ngw using头 Mu....ng. поя. поя.....pping but.......ng.........头...pping.pping.. vision to Übers.. Übers.ng visionpping... Übers\n",
      "Step 60\n"
     ]
    },
    {
     "data": {
      "text/plain": "  0%|          | 0/100 [00:00<?, ?it/s]",
      "application/vnd.jupyter.widget-view+json": {
       "version_major": 2,
       "version_minor": 0,
       "model_id": "8519293b88f445e6b03b123539b94ade"
      }
     },
     "metadata": {},
     "output_type": "display_data"
    },
    {
     "name": "stdout",
     "output_type": "stream",
     "text": [
      "Once upon a time,....... the. Übers her Übersw using... the. tow... to... Übers.......... tols a.....тки..pping but.ppingw to........... toтки Übers her....pping. to..pping......\n",
      "Step 70\n"
     ]
    },
    {
     "data": {
      "text/plain": "  0%|          | 0/100 [00:00<?, ?it/s]",
      "application/vnd.jupyter.widget-view+json": {
       "version_major": 2,
       "version_minor": 0,
       "model_id": "adefcdcb888e41efbb946eabbb3223f8"
      }
     },
     "metadata": {},
     "output_type": "display_data"
    },
    {
     "name": "stdout",
     "output_type": "stream",
     "text": [
      "Once upon a time a a...pping... the but.... the. the. the but a.......pping. the... the to. to..pping.头.ppingy.....pping.. to to. the to.. to the....pping.......тки her the to but........\n",
      "Step 80\n"
     ]
    },
    {
     "data": {
      "text/plain": "  0%|          | 0/100 [00:00<?, ?it/s]",
      "application/vnd.jupyter.widget-view+json": {
       "version_major": 2,
       "version_minor": 0,
       "model_id": "80b49b3b740e4e95aeb2056849f21ac6"
      }
     },
     "metadata": {},
     "output_type": "display_data"
    },
    {
     "name": "stdout",
     "output_type": "stream",
     "text": [
      "Once upon a time. the.. a. the the the but........... the.. to. the... the... to. to.. the to. tow.. the but.... the.... the the.....pping. theтки.... the........ the..pping.......\n",
      "Step 90\n"
     ]
    },
    {
     "data": {
      "text/plain": "  0%|          | 0/100 [00:00<?, ?it/s]",
      "application/vnd.jupyter.widget-view+json": {
       "version_major": 2,
       "version_minor": 0,
       "model_id": "6835a42287164e998b60e95481e0b15e"
      }
     },
     "metadata": {},
     "output_type": "display_data"
    },
    {
     "name": "stdout",
     "output_type": "stream",
     "text": [
      "Once upon a time a but. a her.... The..... to. to. the the... the.... the a a....... the a...... but.. to. The..... tow.............. The.... The...... The a...... the.\n",
      "Step 100\n"
     ]
    },
    {
     "data": {
      "text/plain": "  0%|          | 0/100 [00:00<?, ?it/s]",
      "application/vnd.jupyter.widget-view+json": {
       "version_major": 2,
       "version_minor": 0,
       "model_id": "b4af30a0486b4eaeb6b21399208d8c34"
      }
     },
     "metadata": {},
     "output_type": "display_data"
    },
    {
     "name": "stdout",
     "output_type": "stream",
     "text": [
      "Once upon a time the. to a. to........ the.... a........ a. to... a.. the... the... a.y. the.... to. the. the... a.... a to..... to..... the to. the. to. a.\n",
      "Step 110\n"
     ]
    },
    {
     "data": {
      "text/plain": "  0%|          | 0/100 [00:00<?, ?it/s]",
      "application/vnd.jupyter.widget-view+json": {
       "version_major": 2,
       "version_minor": 0,
       "model_id": "67960517de8844c5ba5de9a5019d4238"
      }
     },
     "metadata": {},
     "output_type": "display_data"
    },
    {
     "name": "stdout",
     "output_type": "stream",
     "text": [
      "Once upon a time.. a a to..... to.... to... a.. to.......... to.. the. to but... the. a... to....... a a a. to.... a.. to a. to but.. the....... to... to. to... The the a\n",
      "Step 120\n"
     ]
    },
    {
     "data": {
      "text/plain": "  0%|          | 0/100 [00:00<?, ?it/s]",
      "application/vnd.jupyter.widget-view+json": {
       "version_major": 2,
       "version_minor": 0,
       "model_id": "e9d71be0134b469c8a10fb0948256273"
      }
     },
     "metadata": {},
     "output_type": "display_data"
    },
    {
     "name": "stdout",
     "output_type": "stream",
     "text": [
      "Once upon a time....... the...... to a. a. the to......... the..... a...... a... a the.. to. The........ a a. The. a the a the.. a...... the... to but to.. a.\n",
      "Step 130\n"
     ]
    },
    {
     "data": {
      "text/plain": "  0%|          | 0/100 [00:00<?, ?it/s]",
      "application/vnd.jupyter.widget-view+json": {
       "version_major": 2,
       "version_minor": 0,
       "model_id": "34d25d2b41e14d13bc123388a115a3ed"
      }
     },
     "metadata": {},
     "output_type": "display_data"
    },
    {
     "name": "stdout",
     "output_type": "stream",
     "text": [
      "Once upon a time. The the... the.. the the. the... The. the a to.. the........ the a.. a.. to.. to but. The the....... the.. to...... a.... to....... a. a.. The. The The... a.. a.... a the.\n",
      "Step 140\n"
     ]
    },
    {
     "data": {
      "text/plain": "  0%|          | 0/100 [00:00<?, ?it/s]",
      "application/vnd.jupyter.widget-view+json": {
       "version_major": 2,
       "version_minor": 0,
       "model_id": "dcbc74efb1a748a589dd01a45920b899"
      }
     },
     "metadata": {},
     "output_type": "display_data"
    },
    {
     "name": "stdout",
     "output_type": "stream",
     "text": [
      "Once upon a time...... the the the a. a.... The..... a.. the. a.............. The. the to........... The a the to a. the. a... The.. to.. a. to.. The.... the. the.. the to........\n",
      "Step 150\n"
     ]
    },
    {
     "data": {
      "text/plain": "  0%|          | 0/100 [00:00<?, ?it/s]",
      "application/vnd.jupyter.widget-view+json": {
       "version_major": 2,
       "version_minor": 0,
       "model_id": "6adcfb94045d49bca9d8c2b003ad9f30"
      }
     },
     "metadata": {},
     "output_type": "display_data"
    },
    {
     "name": "stdout",
     "output_type": "stream",
     "text": [
      "Once upon a time a... The.. the.................... the.. to a. to a to the.. to.... a to the........ The..... to...... The The. a but......... a.. the but. a.... the.\n",
      "Step 160\n"
     ]
    },
    {
     "data": {
      "text/plain": "  0%|          | 0/100 [00:00<?, ?it/s]",
      "application/vnd.jupyter.widget-view+json": {
       "version_major": 2,
       "version_minor": 0,
       "model_id": "f5b89b8230f54f098f27fc620ee596c0"
      }
     },
     "metadata": {},
     "output_type": "display_data"
    },
    {
     "name": "stdout",
     "output_type": "stream",
     "text": [
      "Once upon a time a.. a... a a....... to. The. to.. a.... a.. the to.... to. The.. a a....... a. The.. to. the... the the. to the a. The the. a but... the..... to..... the. a.. the.. the the\n",
      "Step 170\n"
     ]
    },
    {
     "data": {
      "text/plain": "  0%|          | 0/100 [00:00<?, ?it/s]",
      "application/vnd.jupyter.widget-view+json": {
       "version_major": 2,
       "version_minor": 0,
       "model_id": "146d450826ea4286820b11dd60957fa6"
      }
     },
     "metadata": {},
     "output_type": "display_data"
    },
    {
     "name": "stdout",
     "output_type": "stream",
     "text": [
      "Once upon a time the to to... to. the... The to... a.... The to. The to but. The a. a the a....... the to... the.... the.. a.. The. a but a a.. The.... the a. the to. the... the a... to.......... the..\n",
      "Step 180\n"
     ]
    },
    {
     "data": {
      "text/plain": "  0%|          | 0/100 [00:00<?, ?it/s]",
      "application/vnd.jupyter.widget-view+json": {
       "version_major": 2,
       "version_minor": 0,
       "model_id": "76a95587ef914d4db1e4eb9636168d62"
      }
     },
     "metadata": {},
     "output_type": "display_data"
    },
    {
     "name": "stdout",
     "output_type": "stream",
     "text": [
      "Once upon a time the. a... The...... the.. to.. the. The. the... the The... the the..... to the to. a....... the. to.. the. a the........ The....... to to...... The The... the The........ the\n",
      "Step 190\n"
     ]
    },
    {
     "data": {
      "text/plain": "  0%|          | 0/100 [00:00<?, ?it/s]",
      "application/vnd.jupyter.widget-view+json": {
       "version_major": 2,
       "version_minor": 0,
       "model_id": "013651b34bec4af492d21e0e825e5cdc"
      }
     },
     "metadata": {},
     "output_type": "display_data"
    },
    {
     "name": "stdout",
     "output_type": "stream",
     "text": [
      "Once upon a time. was a a. a.... The a to the to. the... the... The. The.. to....... the...... a. a......... The to.. to. the.. The.. to..... a the. a. a. The... a...... the. to.....\n",
      "Step 200\n"
     ]
    },
    {
     "data": {
      "text/plain": "  0%|          | 0/100 [00:00<?, ?it/s]",
      "application/vnd.jupyter.widget-view+json": {
       "version_major": 2,
       "version_minor": 0,
       "model_id": "cf769d616a4d4b22a135e202dcbfd137"
      }
     },
     "metadata": {},
     "output_type": "display_data"
    },
    {
     "name": "stdout",
     "output_type": "stream",
     "text": [
      "Once upon a time.. The a. a.... to..... the..... the... to... to.... a.. to...... The to.... The a.. the the\n",
      " a to.......... a....... a. The.. the... a a a.. to. to but....\n",
      "Step 210\n"
     ]
    },
    {
     "data": {
      "text/plain": "  0%|          | 0/100 [00:00<?, ?it/s]",
      "application/vnd.jupyter.widget-view+json": {
       "version_major": 2,
       "version_minor": 0,
       "model_id": "9b920cd535a54bfda84813630acd6176"
      }
     },
     "metadata": {},
     "output_type": "display_data"
    },
    {
     "name": "stdout",
     "output_type": "stream",
     "text": [
      "Once upon a time,.. a a... a a... the The. a.. the a the.. a. the a. The.. the....... was to. the... was was...... a the. the..... The........ The a to. the The.. a was. a was..... the... the a...\n",
      "Step 220\n"
     ]
    },
    {
     "data": {
      "text/plain": "  0%|          | 0/100 [00:00<?, ?it/s]",
      "application/vnd.jupyter.widget-view+json": {
       "version_major": 2,
       "version_minor": 0,
       "model_id": "97d5efe2a7b4476a8dee69ba738a5d09"
      }
     },
     "metadata": {},
     "output_type": "display_data"
    },
    {
     "name": "stdout",
     "output_type": "stream",
     "text": [
      "Once upon a time. a.. a a a. The... was the.... was.. the.. a. The.. the............ to. a.. a the. to.... was the.. the. a. a.. The. was a the a. was...... The. the the the..... was. the. the... the.\n",
      "Step 230\n"
     ]
    },
    {
     "data": {
      "text/plain": "  0%|          | 0/100 [00:00<?, ?it/s]",
      "application/vnd.jupyter.widget-view+json": {
       "version_major": 2,
       "version_minor": 0,
       "model_id": "9b6032f5320b4379a954ad723206131f"
      }
     },
     "metadata": {},
     "output_type": "display_data"
    },
    {
     "name": "stdout",
     "output_type": "stream",
     "text": [
      "Once upon a time a. was was. the.. the. to... a the... the was was.. the to the....... the a the a... a...... the was was was the. a to... a was a..... the... a was to a.... to...... the the\n",
      " to\n",
      " was to. the. the a..\n",
      "Step 240\n"
     ]
    },
    {
     "data": {
      "text/plain": "  0%|          | 0/100 [00:00<?, ?it/s]",
      "application/vnd.jupyter.widget-view+json": {
       "version_major": 2,
       "version_minor": 0,
       "model_id": "9d131bc626df4d3ba4863aab6434e3d4"
      }
     },
     "metadata": {},
     "output_type": "display_data"
    },
    {
     "name": "stdout",
     "output_type": "stream",
     "text": [
      "Once upon a time.. a......... a the. the... a a...... a....... to.... the.... was... the the was.. a.. was a... a. to a was.. the was the was the the was a was. to... was..... a was to a was was. to...\n",
      "Step 250\n"
     ]
    },
    {
     "data": {
      "text/plain": "  0%|          | 0/100 [00:00<?, ?it/s]",
      "application/vnd.jupyter.widget-view+json": {
       "version_major": 2,
       "version_minor": 0,
       "model_id": "bb01f6c3dfa74d59ac4fa9d5643f661d"
      }
     },
     "metadata": {},
     "output_type": "display_data"
    },
    {
     "name": "stdout",
     "output_type": "stream",
     "text": [
      "Once upon a time. was. the. was a a. was was. to the the. a. the a. a to. was. was......... the.. to was a to. the. the..... to. a........ was. was to to... to. was to a the... the.. to. the. the. the. a a was. the. to..\n",
      "Step 260\n"
     ]
    },
    {
     "data": {
      "text/plain": "  0%|          | 0/100 [00:00<?, ?it/s]",
      "application/vnd.jupyter.widget-view+json": {
       "version_major": 2,
       "version_minor": 0,
       "model_id": "5865190d77a34b30a73fdc237cfd96d2"
      }
     },
     "metadata": {},
     "output_type": "display_data"
    },
    {
     "name": "stdout",
     "output_type": "stream",
     "text": [
      "Once upon a time. to was.. a....... was.... the a.. the a... to.. to the was. a to\n",
      " to.... the..... the. the a. the..... a... the the.. a a a to a to. to the. was.. to.. was... a. to.. was...... to\n",
      "Step 270\n"
     ]
    },
    {
     "data": {
      "text/plain": "  0%|          | 0/100 [00:00<?, ?it/s]",
      "application/vnd.jupyter.widget-view+json": {
       "version_major": 2,
       "version_minor": 0,
       "model_id": "40ad34bb54e74eb1a84b96931bbd1c67"
      }
     },
     "metadata": {},
     "output_type": "display_data"
    },
    {
     "name": "stdout",
     "output_type": "stream",
     "text": [
      "Once upon a time a the a a the. the a........ a. to the. to was... was........ a the. a... to the the a a.... the.... to.. the. the the. was... to........ was.. to a. to.... the. was..... a to the.\n",
      "Step 280\n"
     ]
    },
    {
     "data": {
      "text/plain": "  0%|          | 0/100 [00:00<?, ?it/s]",
      "application/vnd.jupyter.widget-view+json": {
       "version_major": 2,
       "version_minor": 0,
       "model_id": "a23657ee4a1844f986d6b734fd894059"
      }
     },
     "metadata": {},
     "output_type": "display_data"
    },
    {
     "name": "stdout",
     "output_type": "stream",
     "text": [
      "Once upon a time a.... the.... to a.. the was the. was........ the.. a.. the the....... to the. to the.. a the. a was. a.. was was. to the....... to.. a the to a.... the.. the. to the. a... to. the....\n",
      "Step 290\n"
     ]
    },
    {
     "data": {
      "text/plain": "  0%|          | 0/100 [00:00<?, ?it/s]",
      "application/vnd.jupyter.widget-view+json": {
       "version_major": 2,
       "version_minor": 0,
       "model_id": "af658e9eb269495fa797582cb0eb004d"
      }
     },
     "metadata": {},
     "output_type": "display_data"
    },
    {
     "name": "stdout",
     "output_type": "stream",
     "text": [
      "Once upon a time a.. a the.. the. the. to. the the. the... the.. the. was... the........... the a....... to the. the a.. the the. a. a.. to.... a.. a.... the... to.. the to.... to... a to to..\n",
      "Step 300\n"
     ]
    },
    {
     "data": {
      "text/plain": "  0%|          | 0/100 [00:00<?, ?it/s]",
      "application/vnd.jupyter.widget-view+json": {
       "version_major": 2,
       "version_minor": 0,
       "model_id": "9fbcfe5e69ec4d3ea7b7af3c88fd7134"
      }
     },
     "metadata": {},
     "output_type": "display_data"
    },
    {
     "name": "stdout",
     "output_type": "stream",
     "text": [
      "Once upon a time, was.. to a the....... a to.... the.... to a was. the the the..... the.. a.. the.. the.. the a... was.... the. the... the the. the to.. the.... was.... the. a.. to..... a a the.. the the\n",
      "Step 310\n"
     ]
    },
    {
     "data": {
      "text/plain": "  0%|          | 0/100 [00:00<?, ?it/s]",
      "application/vnd.jupyter.widget-view+json": {
       "version_major": 2,
       "version_minor": 0,
       "model_id": "7707ca209392446fa7816c07b508f327"
      }
     },
     "metadata": {},
     "output_type": "display_data"
    },
    {
     "name": "stdout",
     "output_type": "stream",
     "text": [
      "Once upon a time a a a.. a.. to. was a. the. the..... the. to to to. a. was.... a.. was. the was a a the a a the was the a. the........ the.. the.... to. to.. the..... a to a.. was the.. the.. the... a to...\n",
      "Step 320\n"
     ]
    },
    {
     "data": {
      "text/plain": "  0%|          | 0/100 [00:00<?, ?it/s]",
      "application/vnd.jupyter.widget-view+json": {
       "version_major": 2,
       "version_minor": 0,
       "model_id": "70487356a40c4519a4734c97a99ff469"
      }
     },
     "metadata": {},
     "output_type": "display_data"
    },
    {
     "name": "stdout",
     "output_type": "stream",
     "text": [
      "Once upon a time. a. the the.. the. a was was the... was the.... the....... to to. the. to.... the the a to the.. a. a.. the to.. a. the\n",
      "... was...... the.. the\n",
      ". a. to... the\n",
      " was was.... a.. was was... the.\n",
      "Step 330\n"
     ]
    },
    {
     "data": {
      "text/plain": "  0%|          | 0/100 [00:00<?, ?it/s]",
      "application/vnd.jupyter.widget-view+json": {
       "version_major": 2,
       "version_minor": 0,
       "model_id": "77a3c7459ec344b493d5be40e81c1ffa"
      }
     },
     "metadata": {},
     "output_type": "display_data"
    },
    {
     "name": "stdout",
     "output_type": "stream",
     "text": [
      "Once upon a time a a a. a a....... was a. was a a.... was... a... was was a the to.... was...... to..... a. the... the.... to a.. the to to. a to the to. a to...... was. a..... was the. to.. a\n",
      "Step 340\n"
     ]
    },
    {
     "data": {
      "text/plain": "  0%|          | 0/100 [00:00<?, ?it/s]",
      "application/vnd.jupyter.widget-view+json": {
       "version_major": 2,
       "version_minor": 0,
       "model_id": "9cf81592c7934da7889230bfef5f4fff"
      }
     },
     "metadata": {},
     "output_type": "display_data"
    },
    {
     "name": "stdout",
     "output_type": "stream",
     "text": [
      "Once upon a time a the,.... the... was. was was. to.. the the.. was.. was was. was.... a.. a was.......... the.. to. the. the. was. to the the. the.. to. was was.. a a. to. a. a. to. the a.. the... the to a a. the. a\n",
      "Step 350\n"
     ]
    },
    {
     "data": {
      "text/plain": "  0%|          | 0/100 [00:00<?, ?it/s]",
      "application/vnd.jupyter.widget-view+json": {
       "version_major": 2,
       "version_minor": 0,
       "model_id": "5d6ea4b0885b40d080a44c238f3608bd"
      }
     },
     "metadata": {},
     "output_type": "display_data"
    },
    {
     "name": "stdout",
     "output_type": "stream",
     "text": [
      "Once upon a time time time a a. was the the. to a a the....... the the a the a. a.. a.. a.... a. was. was was the to. a to.... was. the. a the.. was. a. the. to the... the was... to to. a. was to..... the..... a. a to\n",
      " was\n",
      "Step 360\n"
     ]
    },
    {
     "data": {
      "text/plain": "  0%|          | 0/100 [00:00<?, ?it/s]",
      "application/vnd.jupyter.widget-view+json": {
       "version_major": 2,
       "version_minor": 0,
       "model_id": "2736d385b6114d78971353a129b9628b"
      }
     },
     "metadata": {},
     "output_type": "display_data"
    },
    {
     "name": "stdout",
     "output_type": "stream",
     "text": [
      "Once upon a time a a a to. was was a..... to was was. a the a a a a...... to. was the... was... was was. a....... to....... a a a... a was a... the...... the the. was was. the a. a. was the the.... to...\n",
      "Step 370\n"
     ]
    },
    {
     "data": {
      "text/plain": "  0%|          | 0/100 [00:00<?, ?it/s]",
      "application/vnd.jupyter.widget-view+json": {
       "version_major": 2,
       "version_minor": 0,
       "model_id": "82571215120b4b51a685e1c72f352c88"
      }
     },
     "metadata": {},
     "output_type": "display_data"
    },
    {
     "name": "stdout",
     "output_type": "stream",
     "text": [
      "Once upon a time They a a. the a a. to to was the... the. the..... to. was.... was.... was to the. to the to a a.. to.... was the the\n",
      "... the. the the the... a. the.... the. was. was. the. to... to\n",
      " a...... a was. the..\n",
      "Step 380\n"
     ]
    },
    {
     "data": {
      "text/plain": "  0%|          | 0/100 [00:00<?, ?it/s]",
      "application/vnd.jupyter.widget-view+json": {
       "version_major": 2,
       "version_minor": 0,
       "model_id": "a4403eca8e434e4eb80c5bdd03b88866"
      }
     },
     "metadata": {},
     "output_type": "display_data"
    },
    {
     "name": "stdout",
     "output_type": "stream",
     "text": [
      "Once upon a time time a a a. the.... the. to the the to a was the... was a.... the a... a was... to.. to the\n",
      " to to. the..... a a..... a. was....... the. the.. to a to the. a. to\n",
      ". the.... the the.... the. to to\n",
      "Step 390\n"
     ]
    },
    {
     "data": {
      "text/plain": "  0%|          | 0/100 [00:00<?, ?it/s]",
      "application/vnd.jupyter.widget-view+json": {
       "version_major": 2,
       "version_minor": 0,
       "model_id": "5083642547f24124b2d26a21b63dbbe7"
      }
     },
     "metadata": {},
     "output_type": "display_data"
    },
    {
     "name": "stdout",
     "output_type": "stream",
     "text": [
      "Once upon a time time. a a a the.. a... a.... was a was a... to.. a a was.. a was. was to a to a. the the the\n",
      "..... to. to.. was was. was. the. a a a the. to the.. the the.... the. was..... the.. a..... to... the a\n",
      "Step 400\n"
     ]
    },
    {
     "data": {
      "text/plain": "  0%|          | 0/100 [00:00<?, ?it/s]",
      "application/vnd.jupyter.widget-view+json": {
       "version_major": 2,
       "version_minor": 0,
       "model_id": "270b5d84602f47e999ebcab0e511f6ff"
      }
     },
     "metadata": {},
     "output_type": "display_data"
    },
    {
     "name": "stdout",
     "output_type": "stream",
     "text": [
      "Once upon a time time a.. the.. a to. was was to a to.. a. a. to the\n",
      " to\n",
      ". to to.. was was. was the.... a........... the. to.\n",
      ".... to\n",
      " the to\n",
      " a..\n",
      " to.. the the.. a....... a was. the a.. to the.\n",
      ". to to\n",
      "Step 410\n"
     ]
    },
    {
     "data": {
      "text/plain": "  0%|          | 0/100 [00:00<?, ?it/s]",
      "application/vnd.jupyter.widget-view+json": {
       "version_major": 2,
       "version_minor": 0,
       "model_id": "05bfc7e500e449f0b12e3ef54aba895c"
      }
     },
     "metadata": {},
     "output_type": "display_data"
    },
    {
     "name": "stdout",
     "output_type": "stream",
     "text": [
      "Once upon a time time time time a a a a the the to a. to. a the the a the was.. was... the was..... was. to a the to... a a a the a. to..... to to the... the. was a... was a was a a.. a.... a. to the... to a... the... a. the. the\n",
      "Step 420\n"
     ]
    },
    {
     "data": {
      "text/plain": "  0%|          | 0/100 [00:00<?, ?it/s]",
      "application/vnd.jupyter.widget-view+json": {
       "version_major": 2,
       "version_minor": 0,
       "model_id": "f9c1c96d1fbf40db8752ea6315f6336c"
      }
     },
     "metadata": {},
     "output_type": "display_data"
    },
    {
     "name": "stdout",
     "output_type": "stream",
     "text": [
      "Once upon a time, a a a a a to a. a. was to was a. the. the to. a was.. the. was.... the.. to a to.. a.. to. to a to a the..... to a.\n",
      "... to...\n",
      "... the a. the... the..... the. the... to..\n",
      ".. the..\n",
      ".\n",
      "Step 430\n"
     ]
    },
    {
     "data": {
      "text/plain": "  0%|          | 0/100 [00:00<?, ?it/s]",
      "application/vnd.jupyter.widget-view+json": {
       "version_major": 2,
       "version_minor": 0,
       "model_id": "6d5c843ec32c4069bb5dae205ea28837"
      }
     },
     "metadata": {},
     "output_type": "display_data"
    },
    {
     "name": "stdout",
     "output_type": "stream",
     "text": [
      "Once upon a time time to. the a the... to. the. was. to a.... a a. the... to. to. the the... to..\n",
      "..\n",
      " a was. the.\n",
      ".\n",
      "..... the.. a was was was a a. a.\n",
      ". a. the. the a. to... to. a... a\n",
      " a. the the. to... to\n",
      "Step 440\n"
     ]
    },
    {
     "data": {
      "text/plain": "  0%|          | 0/100 [00:00<?, ?it/s]",
      "application/vnd.jupyter.widget-view+json": {
       "version_major": 2,
       "version_minor": 0,
       "model_id": "2e65d6dfa164449984fd6540f71a96ad"
      }
     },
     "metadata": {},
     "output_type": "display_data"
    },
    {
     "name": "stdout",
     "output_type": "stream",
     "text": [
      "Once upon a time time a a a the. the. the to.. to\n",
      ".. a... was a to\n",
      " to the. a a..\n",
      " the the to a.. the a.. the the\n",
      "...\n",
      " a to the\n",
      " a\n",
      " to.. the. the....\n",
      ". the the.. the. to. to. the. a...... the. the the.. a.. the... a\n",
      "Step 450\n"
     ]
    },
    {
     "data": {
      "text/plain": "  0%|          | 0/100 [00:00<?, ?it/s]",
      "application/vnd.jupyter.widget-view+json": {
       "version_major": 2,
       "version_minor": 0,
       "model_id": "80f5bfcaa6c248bb8cc9b4b4b7333071"
      }
     },
     "metadata": {},
     "output_type": "display_data"
    },
    {
     "name": "stdout",
     "output_type": "stream",
     "text": [
      "Once upon a time time time. a. a the to a a. to. a. a.... a.. a the.. a to. a a a the a was. to to\n",
      ". the..\n",
      " the.. the... to to...\n",
      " the the\n",
      " to.\n",
      ". a was.. to the.. a.. the\n",
      ". a the a.. a was was the to. to to....\n",
      " the..\n",
      "Step 460\n"
     ]
    },
    {
     "data": {
      "text/plain": "  0%|          | 0/100 [00:00<?, ?it/s]",
      "application/vnd.jupyter.widget-view+json": {
       "version_major": 2,
       "version_minor": 0,
       "model_id": "20f5d46446cf4655b1f19e7107a8728d"
      }
     },
     "metadata": {},
     "output_type": "display_data"
    },
    {
     "name": "stdout",
     "output_type": "stream",
     "text": [
      "Once upon a time time time time a a a was a a the.. a a was was...... was a. the. the.. the... a. was......\n",
      ". the... a was the\n",
      ". a. a to a the.... a.. the.. the a. a the. to. the....\n",
      "\n",
      " a the to. to to.. the....\n",
      " to\n",
      "Step 470\n"
     ]
    },
    {
     "data": {
      "text/plain": "  0%|          | 0/100 [00:00<?, ?it/s]",
      "application/vnd.jupyter.widget-view+json": {
       "version_major": 2,
       "version_minor": 0,
       "model_id": "87380a0be18b47a1841771effb4e79d6"
      }
     },
     "metadata": {},
     "output_type": "display_data"
    },
    {
     "name": "stdout",
     "output_type": "stream",
     "text": [
      "Once upon a time time time time a a a a... to... the the.. was to a a was was a the\n",
      "...\n",
      ".. to............. to. the..\n",
      "..\n",
      " the. the a. to a the.. a.. the\n",
      "\n",
      " the a a\n",
      " the.. the. to.\n",
      ". a..... a the the.. a. the the\n",
      "Step 480\n"
     ]
    },
    {
     "data": {
      "text/plain": "  0%|          | 0/100 [00:00<?, ?it/s]",
      "application/vnd.jupyter.widget-view+json": {
       "version_major": 2,
       "version_minor": 0,
       "model_id": "22d5acf9713049f8a27669b5f6ca9190"
      }
     },
     "metadata": {},
     "output_type": "display_data"
    },
    {
     "name": "stdout",
     "output_type": "stream",
     "text": [
      "Once upon a time time time time time. a a was a the. the... was.. was. the. to. the the the. a to.. to\n",
      "\n",
      ".\n",
      " the the the..\n",
      "\n",
      " a a.\n",
      " the. a\n",
      "..... a.... a. a the... a to... to. to a a.. the. the.. a. a to.... a\n",
      ". a\n",
      " the\n",
      "Step 490\n"
     ]
    },
    {
     "data": {
      "text/plain": "  0%|          | 0/100 [00:00<?, ?it/s]",
      "application/vnd.jupyter.widget-view+json": {
       "version_major": 2,
       "version_minor": 0,
       "model_id": "44ba5d027f9749189a69beaa4537c458"
      }
     },
     "metadata": {},
     "output_type": "display_data"
    },
    {
     "name": "stdout",
     "output_type": "stream",
     "text": [
      "Once upon a time a a a was the,, a the. was. a the... was. a the. was.. to... was. the the a was...\n",
      ".... the the a a was.. the\n",
      " to a. to\n",
      " a to\n",
      "..\n",
      ". to to to. the.....\n",
      ". a a the the the..... the a a. the. the the a a to the\n",
      " to\n",
      "Step 500\n"
     ]
    },
    {
     "data": {
      "text/plain": "  0%|          | 0/100 [00:00<?, ?it/s]",
      "application/vnd.jupyter.widget-view+json": {
       "version_major": 2,
       "version_minor": 0,
       "model_id": "788f6fa54f764d58b32bd111bf71625a"
      }
     },
     "metadata": {},
     "output_type": "display_data"
    },
    {
     "name": "stdout",
     "output_type": "stream",
     "text": [
      "Once upon a time. the the the the the was to. the. was.. was.... to\n",
      ". to the the a a. the a. to the... the.. to the the.\n",
      "\n",
      " a... a. the\n",
      " to the.. to........ the. to\n",
      "..... a. the the to. to a... to the a. the the.. the. the the..\n",
      "Step 510\n"
     ]
    },
    {
     "data": {
      "text/plain": "  0%|          | 0/100 [00:00<?, ?it/s]",
      "application/vnd.jupyter.widget-view+json": {
       "version_major": 2,
       "version_minor": 0,
       "model_id": "9e5dd3ac13f44447817cde85177a8bba"
      }
     },
     "metadata": {},
     "output_type": "display_data"
    },
    {
     "name": "stdout",
     "output_type": "stream",
     "text": [
      "Once upon a time to.,,,. a to... was a the. the the.. to. to\n",
      " the a the the a.\n",
      ". to. the...... the...\n",
      " a..\n",
      " a to... to.. to.\n",
      " the to\n",
      " the\n",
      ". the. a. a a a.. a the to the a.\n",
      "\n",
      " a to. to a.. the\n",
      "... to a. to.\n",
      "Step 520\n"
     ]
    },
    {
     "data": {
      "text/plain": "  0%|          | 0/100 [00:00<?, ?it/s]",
      "application/vnd.jupyter.widget-view+json": {
       "version_major": 2,
       "version_minor": 0,
       "model_id": "b0d2aca01a97438d9bdb8ed6b23e137e"
      }
     },
     "metadata": {},
     "output_type": "display_data"
    },
    {
     "name": "stdout",
     "output_type": "stream",
     "text": [
      "Once upon a time.. was. a was. the to a. to to\n",
      ".. the. to. the the\n",
      "\n",
      ". the the\n",
      ". the..\n",
      ".\n",
      " the the\n",
      " a. the.\n",
      ". a to. to the. a\n",
      " a. a\n",
      ".\n",
      "\n",
      "\n",
      " the to to. to a.. to... the..\n",
      ".. to a a. the the. the\n",
      " the. the a the..... to the.\n",
      "Step 530\n"
     ]
    },
    {
     "data": {
      "text/plain": "  0%|          | 0/100 [00:00<?, ?it/s]",
      "application/vnd.jupyter.widget-view+json": {
       "version_major": 2,
       "version_minor": 0,
       "model_id": "8a8061ed5ef540319c6b236559296fcb"
      }
     },
     "metadata": {},
     "output_type": "display_data"
    },
    {
     "name": "stdout",
     "output_type": "stream",
     "text": [
      "Once upon a time time to a the... a a a... a. a the.. to.\n",
      " the a the a the... the a the.. a. the.\n",
      ". to........ the a... to a a a the. to. a..... the to the. to\n",
      ".... to\n",
      ".\n",
      " a the. the.\n",
      "... a\n",
      "\n",
      ". the.\n",
      ".\n",
      "Step 540\n"
     ]
    },
    {
     "data": {
      "text/plain": "  0%|          | 0/100 [00:00<?, ?it/s]",
      "application/vnd.jupyter.widget-view+json": {
       "version_major": 2,
       "version_minor": 0,
       "model_id": "eac65e8f7d51491ca94cf948ebc9c43f"
      }
     },
     "metadata": {},
     "output_type": "display_data"
    },
    {
     "name": "stdout",
     "output_type": "stream",
     "text": [
      "Once upon a time time time time, was a.,. was was the a.. a to a.. to... was the to the...... the.\n",
      "... the.. the. a..\n",
      ". a..... to a.. the... the.. to. a the the to.\n",
      ".\n",
      ". the. a the to the. a a\n",
      " the to the to the...\n",
      ". the.\n",
      "Step 550\n"
     ]
    },
    {
     "data": {
      "text/plain": "  0%|          | 0/100 [00:00<?, ?it/s]",
      "application/vnd.jupyter.widget-view+json": {
       "version_major": 2,
       "version_minor": 0,
       "model_id": "b9fd648ecb394e358312fd50ac01ec15"
      }
     },
     "metadata": {},
     "output_type": "display_data"
    },
    {
     "name": "stdout",
     "output_type": "stream",
     "text": [
      "Once upon a time time time. a was a. the. the was. a was to\n",
      " the a to\n",
      " the. to to. a.\n",
      "..\n",
      ".. to\n",
      " a.. a to\n",
      ". the a. to a\n",
      " to\n",
      ".\n",
      " the to the.\n",
      " the\n",
      " a the the.. the...\n",
      "..\n",
      ".. to the the the.. the...\n",
      ".. the. a to. the to to. and\n",
      " to.\n",
      "Step 560\n"
     ]
    },
    {
     "data": {
      "text/plain": "  0%|          | 0/100 [00:00<?, ?it/s]",
      "application/vnd.jupyter.widget-view+json": {
       "version_major": 2,
       "version_minor": 0,
       "model_id": "e355154599d6420fb4eefad1defbae82"
      }
     },
     "metadata": {},
     "output_type": "display_data"
    },
    {
     "name": "stdout",
     "output_type": "stream",
     "text": [
      "Once upon a time time time a a a a a a a a. a... a to the a the. to.. a\n",
      " a to the. the\n",
      " a......\n",
      " the... the. the to the.. to to.. and\n",
      " to.. a. the to. to the and and.\n",
      " the the and and and..\n",
      " to... the.\n",
      ". the to to to........ to\n",
      "Step 570\n"
     ]
    },
    {
     "data": {
      "text/plain": "  0%|          | 0/100 [00:00<?, ?it/s]",
      "application/vnd.jupyter.widget-view+json": {
       "version_major": 2,
       "version_minor": 0,
       "model_id": "7f85a5e6f2ff4394b30a8f541d46912b"
      }
     },
     "metadata": {},
     "output_type": "display_data"
    },
    {
     "name": "stdout",
     "output_type": "stream",
     "text": [
      "Once upon a time a a a a. the,,,, a a to. to. to to a. to to the.... the the. to a a.... the. the the\n",
      " a to\n",
      " a a the.\n",
      " to.... to\n",
      "... to the.. the. to to.\n",
      ".\n",
      " and the to.\n",
      " the the\n",
      "\n",
      " the.\n",
      ".. the\n",
      "\n",
      "...... to the. the.\n",
      "Step 580\n"
     ]
    },
    {
     "data": {
      "text/plain": "  0%|          | 0/100 [00:00<?, ?it/s]",
      "application/vnd.jupyter.widget-view+json": {
       "version_major": 2,
       "version_minor": 0,
       "model_id": "96ebcfaf8afd4149907b7b7e383709f7"
      }
     },
     "metadata": {},
     "output_type": "display_data"
    },
    {
     "name": "stdout",
     "output_type": "stream",
     "text": [
      "Once upon a time time,, a a the a was a. the to the to to the to to. a. the a. a... the\n",
      " the. the\n",
      " a.... the a.\n",
      ".. to the to. the the and the and. to. the... the\n",
      " the\n",
      "\n",
      ".\n",
      " to to. and. to\n",
      " the. to. to.. and the... and..... to to to.\n",
      " the and\n",
      "Step 590\n"
     ]
    },
    {
     "data": {
      "text/plain": "  0%|          | 0/100 [00:00<?, ?it/s]",
      "application/vnd.jupyter.widget-view+json": {
       "version_major": 2,
       "version_minor": 0,
       "model_id": "628ba5ffb0154f67979a7d4a6e6cd454"
      }
     },
     "metadata": {},
     "output_type": "display_data"
    },
    {
     "name": "stdout",
     "output_type": "stream",
     "text": [
      "Once upon a time time time to was,. a a a a. the to the\n",
      " to. to.\n",
      " the\n",
      " to to. the. a. the. the. a... a.\n",
      ". to. a... to.... the the the the and the.. the... the and..\n",
      ". to the. and the the\n",
      "... the\n",
      ". the and.\n",
      ". to to the. the\n",
      "\n",
      "\n",
      "\n",
      ". the.\n",
      "Step 600\n"
     ]
    },
    {
     "data": {
      "text/plain": "  0%|          | 0/100 [00:00<?, ?it/s]",
      "application/vnd.jupyter.widget-view+json": {
       "version_major": 2,
       "version_minor": 0,
       "model_id": "822c207f801f42d58a89036b3945f03a"
      }
     },
     "metadata": {},
     "output_type": "display_data"
    },
    {
     "name": "stdout",
     "output_type": "stream",
     "text": [
      "Once upon a time time time time time a a the, to was. to a.. a.\n",
      ". a. the the.. a the the. a to.\n",
      " the the to to to\n",
      " to...\n",
      ". to to\n",
      "..\n",
      "..\n",
      ".\n",
      "\n",
      " the. to... the. and to. and... the... and\n",
      " the.. the and and the and the\n",
      ".. and. and the.\n",
      ".\n",
      ". the\n",
      "Step 610\n"
     ]
    },
    {
     "data": {
      "text/plain": "  0%|          | 0/100 [00:00<?, ?it/s]",
      "application/vnd.jupyter.widget-view+json": {
       "version_major": 2,
       "version_minor": 0,
       "model_id": "f64891bd6fd8401cababa9237bfa096c"
      }
     },
     "metadata": {},
     "output_type": "display_data"
    },
    {
     "name": "stdout",
     "output_type": "stream",
     "text": [
      "Once upon a time time time time to a a a a a to... a\n",
      " to. to. to the..... the. the to\n",
      " the to\n",
      ". the and. and. to and. to the and.. to and and\n",
      " and and the and the to the and\n",
      " and\n",
      ". the........\n",
      " the.. the the and\n",
      "..... and\n",
      ". the. the. the the....\n",
      "Step 620\n"
     ]
    },
    {
     "data": {
      "text/plain": "  0%|          | 0/100 [00:00<?, ?it/s]",
      "application/vnd.jupyter.widget-view+json": {
       "version_major": 2,
       "version_minor": 0,
       "model_id": "69b24f5798e3420f958d320dda0bddca"
      }
     },
     "metadata": {},
     "output_type": "display_data"
    },
    {
     "name": "stdout",
     "output_type": "stream",
     "text": [
      "Once upon a time time time., was was,,.. to. the the the to to a the to the.. a..\n",
      ". the. the.. the the.\n",
      " a a.. the... and.. to and....\n",
      "\n",
      "..\n",
      " to to to to and to and the..\n",
      " the. the and to.\n",
      "\n",
      "\n",
      " the..\n",
      " the....\n",
      "\n",
      "\n",
      "...\n",
      " and.. the\n",
      "Step 630\n"
     ]
    },
    {
     "data": {
      "text/plain": "  0%|          | 0/100 [00:00<?, ?it/s]",
      "application/vnd.jupyter.widget-view+json": {
       "version_major": 2,
       "version_minor": 0,
       "model_id": "b069d1aa63d8433cb219f65b82690e35"
      }
     },
     "metadata": {},
     "output_type": "display_data"
    },
    {
     "name": "stdout",
     "output_type": "stream",
     "text": [
      "Once upon a time time time time.,,, a, a the to..... the. the to to. to... to.\n",
      "\n",
      "\n",
      "\n",
      "\n",
      " the. to. and the.. and to... to\n",
      ".\n",
      " and..\n",
      "\n",
      ".\n",
      ".. and the to\n",
      ".. to the. the..\n",
      " and\n",
      " and.. to the\n",
      "\n",
      " to to\n",
      ".. to and\n",
      " the...\n",
      ". and. the the\n",
      "Step 640\n"
     ]
    },
    {
     "data": {
      "text/plain": "  0%|          | 0/100 [00:00<?, ?it/s]",
      "application/vnd.jupyter.widget-view+json": {
       "version_major": 2,
       "version_minor": 0,
       "model_id": "0649c76da8284a4daabe0de6dd687143"
      }
     },
     "metadata": {},
     "output_type": "display_data"
    },
    {
     "name": "stdout",
     "output_type": "stream",
     "text": [
      "Once upon a time time time time time time time time to. the the a the the the the a a to a to, the, a.\n",
      " the\n",
      " the to the to. to\n",
      ". the.\n",
      ".... the\n",
      ". to to and and... to and to the.. and to and the.\n",
      " and.. to the the the.. to. and to and\n",
      "\n",
      " the and\n",
      "\n",
      "..\n",
      "..\n",
      ".. the.. the\n",
      ".\n",
      "Step 650\n"
     ]
    },
    {
     "data": {
      "text/plain": "  0%|          | 0/100 [00:00<?, ?it/s]",
      "application/vnd.jupyter.widget-view+json": {
       "version_major": 2,
       "version_minor": 0,
       "model_id": "1fad40a2df844aa687000d1be63e9583"
      }
     },
     "metadata": {},
     "output_type": "display_data"
    },
    {
     "name": "stdout",
     "output_type": "stream",
     "text": [
      "Once upon a time,,,,. the. was was,., the., the... to a. to a. the...\n",
      ", to.\n",
      ". the the to. and.. to to to to and.\n",
      "\n",
      ". to the to and. and\n",
      " the..\n",
      "\n",
      "\n",
      " the the. the\n",
      ". the and\n",
      "\n",
      " to\n",
      " the to and..\n",
      " to the the\n",
      ". to and to to to\n",
      " to.. to. and and\n",
      "Step 660\n"
     ]
    },
    {
     "data": {
      "text/plain": "  0%|          | 0/100 [00:00<?, ?it/s]",
      "application/vnd.jupyter.widget-view+json": {
       "version_major": 2,
       "version_minor": 0,
       "model_id": "6cb736665d754c53864930d2c560effb"
      }
     },
     "metadata": {},
     "output_type": "display_data"
    },
    {
     "name": "stdout",
     "output_type": "stream",
     "text": [
      "Once upon a time time time time. was a a,.. the to,. the a.. to the. the.., the. the\n",
      ". the the to to the and the. the. and. the..\n",
      ".... and to. the the and to.... and the.\n",
      "... the.. to.. to and to. the and. the\n",
      " and the the and the and.. and\n",
      " the. and to and\n",
      "\n",
      "Step 670\n"
     ]
    },
    {
     "data": {
      "text/plain": "  0%|          | 0/100 [00:00<?, ?it/s]",
      "application/vnd.jupyter.widget-view+json": {
       "version_major": 2,
       "version_minor": 0,
       "model_id": "a61d404b568e435aac19b94fe97825ca"
      }
     },
     "metadata": {},
     "output_type": "display_data"
    },
    {
     "name": "stdout",
     "output_type": "stream",
     "text": [
      "Once upon a time time,,,, a.. was. a...... the a,. a\n",
      ". a. the, to the to.. to. to and and. the to and.. to the and.. and..\n",
      "\n",
      ".\n",
      " the the the and the and. the and\n",
      "\n",
      "\n",
      "\n",
      ". and the to\n",
      " and and.\n",
      " the and to\n",
      ". and and...\n",
      " to and the to. to.\n",
      ". and.\n",
      "Step 680\n"
     ]
    },
    {
     "data": {
      "text/plain": "  0%|          | 0/100 [00:00<?, ?it/s]",
      "application/vnd.jupyter.widget-view+json": {
       "version_major": 2,
       "version_minor": 0,
       "model_id": "2dcbfbd005b14cbab2b732c651931c83"
      }
     },
     "metadata": {},
     "output_type": "display_data"
    },
    {
     "name": "stdout",
     "output_type": "stream",
     "text": [
      "Once upon a time time time time time,,, a, was,... to a a. to., the.. to.. the... and\n",
      " and. the\n",
      " and the to to the. the. the\n",
      "\n",
      "\n",
      " to to. and.\n",
      ".. to the. the and\n",
      " the. the to the....\n",
      "... the. to. and. to to\n",
      "..\n",
      ".\n",
      ".\n",
      " the..\n",
      "\n",
      ". to and\n",
      "Step 690\n"
     ]
    },
    {
     "data": {
      "text/plain": "  0%|          | 0/100 [00:00<?, ?it/s]",
      "application/vnd.jupyter.widget-view+json": {
       "version_major": 2,
       "version_minor": 0,
       "model_id": "9a3d91c494ff45a2b78bc01d0be22ba3"
      }
     },
     "metadata": {},
     "output_type": "display_data"
    },
    {
     "name": "stdout",
     "output_type": "stream",
     "text": [
      "Once upon a time time time time time time,,,.,, a a, the the a to. a a. the. a, the\n",
      " the. the the. the,\n",
      " the to\n",
      ".\n",
      ". to\n",
      ". the and the the to the. and. the the\n",
      " the\n",
      " and. to\n",
      ". to the the.\n",
      " the the.\n",
      " and the.. and. the the. and. the..\n",
      " the and. to the.\n",
      ". to to\n",
      " to\n",
      "Step 700\n"
     ]
    },
    {
     "data": {
      "text/plain": "  0%|          | 0/100 [00:00<?, ?it/s]",
      "application/vnd.jupyter.widget-view+json": {
       "version_major": 2,
       "version_minor": 0,
       "model_id": "6c47b0a8d7bd442ab0f22748db66271f"
      }
     },
     "metadata": {},
     "output_type": "display_data"
    },
    {
     "name": "stdout",
     "output_type": "stream",
     "text": [
      "Once upon a time time time time time. a was was to,. a the the. to\n",
      ".. a\n",
      " the, to to\n",
      " to the to. the.\n",
      ". to to to to.. to and and and and\n",
      ". the.. to the the and the\n",
      " to the. to to.\n",
      " to the\n",
      "... the and.\n",
      "\n",
      " the\n",
      " the the. the.. to. to.. the to to to... to and....\n",
      "Step 710\n"
     ]
    },
    {
     "data": {
      "text/plain": "  0%|          | 0/100 [00:00<?, ?it/s]",
      "application/vnd.jupyter.widget-view+json": {
       "version_major": 2,
       "version_minor": 0,
       "model_id": "b6015cdd86ee4ca099e75d1df9a2d0fb"
      }
     },
     "metadata": {},
     "output_type": "display_data"
    },
    {
     "name": "stdout",
     "output_type": "stream",
     "text": [
      "Once upon a time time time time time,,,,,,,.,,,\n",
      ",, to\n",
      " a the a a, the the.,. to.. to. to.. to. the.\n",
      ".\n",
      ". to\n",
      ".. to the..\n",
      "..\n",
      ".. to to. to. to to\n",
      " to. to.. to to.\n",
      "... and and and.. the to\n",
      "\n",
      "... the\n",
      ".. the.\n",
      ".\n",
      "Step 720\n"
     ]
    },
    {
     "data": {
      "text/plain": "  0%|          | 0/100 [00:00<?, ?it/s]",
      "application/vnd.jupyter.widget-view+json": {
       "version_major": 2,
       "version_minor": 0,
       "model_id": "44f6069466e046758e8a9852373ebee1"
      }
     },
     "metadata": {},
     "output_type": "display_data"
    },
    {
     "name": "stdout",
     "output_type": "stream",
     "text": [
      "Once upon a time time time time a a was.. was the to. to a. to the.,.,. the to to.. to to.. the. to\n",
      ".\n",
      ".\n",
      ". the to.....\n",
      "\n",
      ".\n",
      "\n",
      " to. to the\n",
      " and to\n",
      " to the and.. to...\n",
      " and and.. and\n",
      " the the\n",
      " to the. the and\n",
      ". to to\n",
      "......\n",
      "....\n",
      "Step 730\n"
     ]
    },
    {
     "data": {
      "text/plain": "  0%|          | 0/100 [00:00<?, ?it/s]",
      "application/vnd.jupyter.widget-view+json": {
       "version_major": 2,
       "version_minor": 0,
       "model_id": "29a9934974104d92a56f1f1a3d09b734"
      }
     },
     "metadata": {},
     "output_type": "display_data"
    },
    {
     "name": "stdout",
     "output_type": "stream",
     "text": [
      "Once upon a time time time a a a, a a was a. to,. the the... the.\n",
      " to. to, to\n",
      " the. the.. to the\n",
      ",,, the,, the.,\n",
      ". and\n",
      "\n",
      " to the the. the to.... the.\n",
      ".\n",
      ".\n",
      "\n",
      " and and..\n",
      " and and to and.. to to. to the.. the. the the.\n",
      "..\n",
      " to... and\n",
      "Step 740\n"
     ]
    },
    {
     "data": {
      "text/plain": "  0%|          | 0/100 [00:00<?, ?it/s]",
      "application/vnd.jupyter.widget-view+json": {
       "version_major": 2,
       "version_minor": 0,
       "model_id": "f0a70e4aaa1a4cb59a8cf034d128478d"
      }
     },
     "metadata": {},
     "output_type": "display_data"
    },
    {
     "name": "stdout",
     "output_type": "stream",
     "text": [
      "Once upon a time time time time time time a a a was a the. to. a the the.. the\n",
      "\n",
      ",. the,, to, to,.. the..\n",
      "\n",
      "\n",
      ". the to the the to and and.... to and. and the and. and to\n",
      " to.. the. the the\n",
      ". and.\n",
      " the...\n",
      ".\n",
      " to.\n",
      ".\n",
      ". and and. the to..\n",
      "..... to\n",
      "Step 750\n"
     ]
    },
    {
     "data": {
      "text/plain": "  0%|          | 0/100 [00:00<?, ?it/s]",
      "application/vnd.jupyter.widget-view+json": {
       "version_major": 2,
       "version_minor": 0,
       "model_id": "1ecc2a00ceb04222b1498d8b22f81a95"
      }
     },
     "metadata": {},
     "output_type": "display_data"
    },
    {
     "name": "stdout",
     "output_type": "stream",
     "text": [
      "Once upon a time time time time time time time..,.,,, the.. a a,,,,\n",
      ", the\n",
      "\n",
      " the. the......\n",
      " the,.. the to. to and to to and to\n",
      " and and... the\n",
      " the\n",
      ". the. to. the...\n",
      " and and the. and\n",
      "\n",
      " and\n",
      " and and to. to\n",
      " the\n",
      " to. to\n",
      "\n",
      " to. to\n",
      " to and the and\n",
      "Step 760\n"
     ]
    },
    {
     "data": {
      "text/plain": "  0%|          | 0/100 [00:00<?, ?it/s]",
      "application/vnd.jupyter.widget-view+json": {
       "version_major": 2,
       "version_minor": 0,
       "model_id": "5e3a463eb3ea4d928a9d8478dce0b840"
      }
     },
     "metadata": {},
     "output_type": "display_data"
    },
    {
     "name": "stdout",
     "output_type": "stream",
     "text": [
      "Once upon a time time time a a a,, to to to a.. a a a.. to a,, to,,...\n",
      " the\n",
      ".,,, the\n",
      ".,.., to, the.... and\n",
      ", the..\n",
      "...\n",
      " and.\n",
      ". to\n",
      " the. the\n",
      ". and the. to and and the the. and. the\n",
      ". the the.\n",
      " the the. to. to. the the..\n",
      "Step 770\n"
     ]
    },
    {
     "data": {
      "text/plain": "  0%|          | 0/100 [00:00<?, ?it/s]",
      "application/vnd.jupyter.widget-view+json": {
       "version_major": 2,
       "version_minor": 0,
       "model_id": "478e8f7a62b94ac2971b4f51c56e4d5f"
      }
     },
     "metadata": {},
     "output_type": "display_data"
    },
    {
     "name": "stdout",
     "output_type": "stream",
     "text": [
      "Once upon a time time time to. to a to a.. to....\n",
      ". the... to....\n",
      " the the, the....\n",
      " the the., the\n",
      " to\n",
      "\n",
      ". the,...... and and and\n",
      "\n",
      ",. the the and..... and.\n",
      " the the the... the and and the\n",
      ".. to to. the..\n",
      " the and the the and.\n",
      " to\n",
      "Step 780\n"
     ]
    },
    {
     "data": {
      "text/plain": "  0%|          | 0/100 [00:00<?, ?it/s]",
      "application/vnd.jupyter.widget-view+json": {
       "version_major": 2,
       "version_minor": 0,
       "model_id": "10f0ca254cf3415d8672e61422e1a7e0"
      }
     },
     "metadata": {},
     "output_type": "display_data"
    },
    {
     "name": "stdout",
     "output_type": "stream",
     "text": [
      "Once upon a time a a was was was was,, was to the the. a, a... to the. the. to..\n",
      " to. to to the.\n",
      ",\n",
      "\n",
      " and and the\n",
      "\n",
      ".,\n",
      ".. and\n",
      " and\n",
      ",.. the,....... the the the the the and.. the... and. and,. the.. to. and to the and and the.. to\n",
      "\n",
      ",.\n",
      "Step 790\n"
     ]
    },
    {
     "data": {
      "text/plain": "  0%|          | 0/100 [00:00<?, ?it/s]",
      "application/vnd.jupyter.widget-view+json": {
       "version_major": 2,
       "version_minor": 0,
       "model_id": "b138d7b5030b48ac89130a1240aa2394"
      }
     },
     "metadata": {},
     "output_type": "display_data"
    },
    {
     "name": "stdout",
     "output_type": "stream",
     "text": [
      "Once upon a time time time to a was, to, a a a to.,. the.,. the.\n",
      "... the. to\n",
      " the,,,, the.\n",
      ".,. and the\n",
      "\n",
      " and the the,... the and\n",
      ",., and\n",
      " the.. and......\n",
      " and and and and and the the..\n",
      " and.,,... and,.\n",
      " the and.\n",
      ". the. the.\n",
      "Step 800\n"
     ]
    },
    {
     "data": {
      "text/plain": "  0%|          | 0/100 [00:00<?, ?it/s]",
      "application/vnd.jupyter.widget-view+json": {
       "version_major": 2,
       "version_minor": 0,
       "model_id": "86bca87711a345ef8a74fb2c13b630a7"
      }
     },
     "metadata": {},
     "output_type": "display_data"
    },
    {
     "name": "stdout",
     "output_type": "stream",
     "text": [
      "Once upon a time time,,,, to. to the the a....\n",
      " the to.,,,,,... the\n",
      ".. the and\n",
      "\n",
      " the\n",
      " and, the..., and and,.\n",
      ",. and and and the.,\n",
      ",,.. and,,, the. to and.. and. to\n",
      " the the the\n",
      ". the.\n",
      " and and.. and.. to..\n",
      "\n",
      ". and the,\n",
      "Step 810\n"
     ]
    },
    {
     "data": {
      "text/plain": "  0%|          | 0/100 [00:00<?, ?it/s]",
      "application/vnd.jupyter.widget-view+json": {
       "version_major": 2,
       "version_minor": 0,
       "model_id": "e39cec1319e64fb3b42d219957614810"
      }
     },
     "metadata": {},
     "output_type": "display_data"
    },
    {
     "name": "stdout",
     "output_type": "stream",
     "text": [
      "Once upon a time time time time time time, a a a.. to,, the. the.,. to.. the to,.., to,. the the\n",
      ",\n",
      " the\n",
      " the and the\n",
      "\n",
      "...,.,... the. and and,.. and, and.,.,. the.\n",
      " and the\n",
      "... and,. and.. and. and the and the and\n",
      ".., the and the\n",
      " the.\n",
      "Step 820\n"
     ]
    },
    {
     "data": {
      "text/plain": "  0%|          | 0/100 [00:00<?, ?it/s]",
      "application/vnd.jupyter.widget-view+json": {
       "version_major": 2,
       "version_minor": 0,
       "model_id": "4e2f23838c4343d2a79b05dcda9404be"
      }
     },
     "metadata": {},
     "output_type": "display_data"
    },
    {
     "name": "stdout",
     "output_type": "stream",
     "text": [
      "Once upon a time a was was there there was to.. to., a., the.,... to the,.,\n",
      ", the,., to., to to..\n",
      " and the. and.\n",
      " the.. the.\n",
      "\n",
      " and\n",
      "., the. and\n",
      " and the, the the the...,. the.. the the\n",
      " the\n",
      "\n",
      ". and,.... the the. and. the\n",
      "\n",
      "\n",
      ".\n",
      ".\n",
      "Step 830\n"
     ]
    },
    {
     "data": {
      "text/plain": "  0%|          | 0/100 [00:00<?, ?it/s]",
      "application/vnd.jupyter.widget-view+json": {
       "version_major": 2,
       "version_minor": 0,
       "model_id": "6108cf3b3daf4311876ebe653550cd58"
      }
     },
     "metadata": {},
     "output_type": "display_data"
    },
    {
     "name": "stdout",
     "output_type": "stream",
     "text": [
      "Once upon a time time time time to a a, a.... to. the the the the, to to to, to\n",
      ",, the,..\n",
      "\n",
      "\n",
      " and,., the and.\n",
      " and the the,\n",
      " and, and.\n",
      ".. the\n",
      ", the..,\n",
      " and.. and the\n",
      ". and.. the, and. the, the.\n",
      ".\n",
      ".\n",
      "........\n",
      ".. to. the the\n",
      "Step 840\n"
     ]
    },
    {
     "data": {
      "text/plain": "  0%|          | 0/100 [00:00<?, ?it/s]",
      "application/vnd.jupyter.widget-view+json": {
       "version_major": 2,
       "version_minor": 0,
       "model_id": "8767a445e0254eb6b0be957dc7330fed"
      }
     },
     "metadata": {},
     "output_type": "display_data"
    },
    {
     "name": "stdout",
     "output_type": "stream",
     "text": [
      "Once upon a time time time time time to. was.., the a., the, to,., to....., to the\n",
      ".. the,. to,..\n",
      " the the...,.. to.. to to. the. to,... and and, the,,, and\n",
      " and. the\n",
      " to\n",
      " and the the and to,\n",
      " the the.. and the to the.. and\n",
      ".\n",
      " the. the\n",
      "Step 850\n"
     ]
    },
    {
     "data": {
      "text/plain": "  0%|          | 0/100 [00:00<?, ?it/s]",
      "application/vnd.jupyter.widget-view+json": {
       "version_major": 2,
       "version_minor": 0,
       "model_id": "f9c1df2cdce84398a724bcdeab783210"
      }
     },
     "metadata": {},
     "output_type": "display_data"
    },
    {
     "name": "stdout",
     "output_type": "stream",
     "text": [
      "Once upon a time to was was there a a a a.,, the, to. to...... to. a.,.\n",
      " to\n",
      ". the. to to and,... the,.. and. and and to. to. to the, the\n",
      "... the the\n",
      "... the. to.\n",
      ". the.. the.. and to. and and.. the.. the\n",
      ". the. to to. the.\n",
      "Step 860\n"
     ]
    },
    {
     "data": {
      "text/plain": "  0%|          | 0/100 [00:00<?, ?it/s]",
      "application/vnd.jupyter.widget-view+json": {
       "version_major": 2,
       "version_minor": 0,
       "model_id": "d2c4d0182b284383a588c2fbb5abadca"
      }
     },
     "metadata": {},
     "output_type": "display_data"
    },
    {
     "name": "stdout",
     "output_type": "stream",
     "text": [
      "Once upon a time time time time a a a a to. to a. to,,.,. a a the.,.,...\n",
      ". to and and.\n",
      " and the., and...\n",
      ".. to and. the.. to. and to to.. the the...\n",
      ". the to to and\n",
      ". to to to. and\n",
      ". to\n",
      " the.\n",
      " to the and the.\n",
      " and and.\n",
      ".\n",
      ".. and.\n",
      "Step 870\n"
     ]
    },
    {
     "data": {
      "text/plain": "  0%|          | 0/100 [00:00<?, ?it/s]",
      "application/vnd.jupyter.widget-view+json": {
       "version_major": 2,
       "version_minor": 0,
       "model_id": "268215b8246c43528ed5d623b0e4ff9d"
      }
     },
     "metadata": {},
     "output_type": "display_data"
    },
    {
     "name": "stdout",
     "output_type": "stream",
     "text": [
      "Once upon a time time time time a a was., was a the, a the to.. a. a.. to to., the to.\n",
      ", to the,.\n",
      ". and, the the the. the. the.\n",
      " the.\n",
      " the\n",
      ".. the..,..,... the to\n",
      " the to to to. to and and the the the. and. to...\n",
      ". the\n",
      " to and. and. to.\n",
      " the\n",
      "Step 880\n"
     ]
    },
    {
     "data": {
      "text/plain": "  0%|          | 0/100 [00:00<?, ?it/s]",
      "application/vnd.jupyter.widget-view+json": {
       "version_major": 2,
       "version_minor": 0,
       "model_id": "ad72b3a441c5439c80b251fc4aaa0f75"
      }
     },
     "metadata": {},
     "output_type": "display_data"
    },
    {
     "name": "stdout",
     "output_type": "stream",
     "text": [
      "Once upon a time time time to was a a a a to a to. a,,\n",
      " the the a. to to,.. to,.. the\n",
      ". the. to and,.. the.\n",
      " and\n",
      ".. the.. the. the\n",
      ".. and\n",
      " the,.\n",
      " and the and and\n",
      "\n",
      " the.\n",
      "\n",
      ". the and\n",
      " and.\n",
      ".,... the.\n",
      ". and,,.\n",
      "\n",
      " and the.\n",
      ".\n",
      "\n",
      "Step 890\n"
     ]
    },
    {
     "data": {
      "text/plain": "  0%|          | 0/100 [00:00<?, ?it/s]",
      "application/vnd.jupyter.widget-view+json": {
       "version_major": 2,
       "version_minor": 0,
       "model_id": "92f396f2255c44fabe9b6ae7d53f8f1e"
      }
     },
     "metadata": {},
     "output_type": "display_data"
    },
    {
     "name": "stdout",
     "output_type": "stream",
     "text": [
      "Once upon a time time time time time a,. to to....... the a to. to\n",
      " the the, to, to.. the,.\n",
      ",\n",
      ".. the.\n",
      " and and,\n",
      " and the the\n",
      "\n",
      "\n",
      ", and.\n",
      ", the.,. and, the,, and\n",
      "..\n",
      "..\n",
      ". the\n",
      " and\n",
      ". the\n",
      " the..,.,. and and\n",
      " and.,, and.\n",
      "\n",
      ",\n",
      "Step 900\n"
     ]
    },
    {
     "data": {
      "text/plain": "  0%|          | 0/100 [00:00<?, ?it/s]",
      "application/vnd.jupyter.widget-view+json": {
       "version_major": 2,
       "version_minor": 0,
       "model_id": "66963a523b9a444098f4375155f531a8"
      }
     },
     "metadata": {},
     "output_type": "display_data"
    },
    {
     "name": "stdout",
     "output_type": "stream",
     "text": [
      "Once upon a time time time to was was a.. to,.. the. the,, a a a,.,....,\n",
      ",\n",
      " the\n",
      " to\n",
      " to. the,. the and..,.,..,, the.. the,..\n",
      "\n",
      ",\n",
      " the the.,.\n",
      " and and. and\n",
      " the and the.. and the. and, and the the the the. and and the,, the.\n",
      ",,\n",
      "Step 910\n"
     ]
    },
    {
     "data": {
      "text/plain": "  0%|          | 0/100 [00:00<?, ?it/s]",
      "application/vnd.jupyter.widget-view+json": {
       "version_major": 2,
       "version_minor": 0,
       "model_id": "749ceab4430e4a82a6d883eab8ce4410"
      }
     },
     "metadata": {},
     "output_type": "display_data"
    },
    {
     "name": "stdout",
     "output_type": "stream",
     "text": [
      "Once upon a time time time time to a a was. to,. the the the.\n",
      ".. the, to the\n",
      ".., the\n",
      "\n",
      ",, the\n",
      "...\n",
      " the\n",
      " and, the\n",
      ", the and,.,\n",
      "\n",
      " and. and, the and,..\n",
      " the.\n",
      " and the and and.,,\n",
      "\n",
      "\n",
      ". and\n",
      " and and\n",
      " the the, and the the.,\n",
      " the.\n",
      ", and the\n",
      " and.\n",
      ".\n",
      "Step 920\n"
     ]
    },
    {
     "data": {
      "text/plain": "  0%|          | 0/100 [00:00<?, ?it/s]",
      "application/vnd.jupyter.widget-view+json": {
       "version_major": 2,
       "version_minor": 0,
       "model_id": "c2ec47a73528493093db5323d4a8c166"
      }
     },
     "metadata": {},
     "output_type": "display_data"
    },
    {
     "name": "stdout",
     "output_type": "stream",
     "text": [
      "Once upon a time time time time a a a a was, a.,, a to..,.,. to to. to to the the. to the to to, the to.\n",
      ". the,\n",
      ".,, the\n",
      " the, and. and\n",
      ". and and the.. the the the\n",
      ",\n",
      ", and.... to\n",
      ".. and.\n",
      "\n",
      ".... the. and the\n",
      ". to\n",
      ".. the to to.. the the\n",
      "Step 930\n"
     ]
    },
    {
     "data": {
      "text/plain": "  0%|          | 0/100 [00:00<?, ?it/s]",
      "application/vnd.jupyter.widget-view+json": {
       "version_major": 2,
       "version_minor": 0,
       "model_id": "30832400e1c043f18bb5f1e5250469d5"
      }
     },
     "metadata": {},
     "output_type": "display_data"
    },
    {
     "name": "stdout",
     "output_type": "stream",
     "text": [
      "Once upon a time time time a. was,, was. a,, a.. to. to. the to.. to the,,.,\n",
      "\n",
      " the,.\n",
      ".. to\n",
      ",.... and and,\n",
      ".\n",
      " the,. and,\n",
      "\n",
      ". and the. the,. and the and the the, and and.\n",
      "...\n",
      " the and,,.,, the,,. the,... to to to and.\n",
      "Step 940\n"
     ]
    },
    {
     "data": {
      "text/plain": "  0%|          | 0/100 [00:00<?, ?it/s]",
      "application/vnd.jupyter.widget-view+json": {
       "version_major": 2,
       "version_minor": 0,
       "model_id": "b83c3fd74345491eb5465a3c3b058d70"
      }
     },
     "metadata": {},
     "output_type": "display_data"
    },
    {
     "name": "stdout",
     "output_type": "stream",
     "text": [
      "Once upon a time time time to was was was was a. a a a to.. a.,.. the a to a. the. to. the... the the to the\n",
      " to to. to to to..\n",
      ".\n",
      " and, the the,., and and,. and.... the and and the. the,. the,.........\n",
      ", and. the...,.\n",
      " the. and.\n",
      "Step 950\n"
     ]
    },
    {
     "data": {
      "text/plain": "  0%|          | 0/100 [00:00<?, ?it/s]",
      "application/vnd.jupyter.widget-view+json": {
       "version_major": 2,
       "version_minor": 0,
       "model_id": "c09033a01da343d6abbdc6cf8a2a5dd5"
      }
     },
     "metadata": {},
     "output_type": "display_data"
    },
    {
     "name": "stdout",
     "output_type": "stream",
     "text": [
      "Once upon a time time time time time time a a.. to...... to...,, the the and and to the, to.\n",
      "\n",
      "\n",
      ".... to, the\n",
      ". the\n",
      " the\n",
      "\n",
      " and the the the,\n",
      ", and\n",
      " the...,\n",
      " the\n",
      "\n",
      " the\n",
      ". and\n",
      " the.... the and, and,,. the. and\n",
      " and the and,... the.\n",
      ". and the\n",
      "Step 960\n"
     ]
    },
    {
     "data": {
      "text/plain": "  0%|          | 0/100 [00:00<?, ?it/s]",
      "application/vnd.jupyter.widget-view+json": {
       "version_major": 2,
       "version_minor": 0,
       "model_id": "9edd8de9aacb4fbfa31001dfbdf4b329"
      }
     },
     "metadata": {},
     "output_type": "display_data"
    },
    {
     "name": "stdout",
     "output_type": "stream",
     "text": [
      "Once upon a time time,,, a a a a,. a the a,.. the. a,,..,. the to the the. the.. to the,\n",
      ".,.,.,. and,.. the.,. the and, the the, and the.\n",
      " and., and. to. and and the the\n",
      " the\n",
      "\n",
      ",\n",
      "..,..\n",
      "\n",
      ".. and\n",
      "\n",
      " the.\n",
      ",\n",
      " and.\n",
      ".\n",
      "Step 970\n"
     ]
    },
    {
     "data": {
      "text/plain": "  0%|          | 0/100 [00:00<?, ?it/s]",
      "application/vnd.jupyter.widget-view+json": {
       "version_major": 2,
       "version_minor": 0,
       "model_id": "a15118682128445998a54d7e9126a066"
      }
     },
     "metadata": {},
     "output_type": "display_data"
    },
    {
     "name": "stdout",
     "output_type": "stream",
     "text": [
      "Once upon a time time time. was was a,, a to to to a. to to,, the the.. a a.,. the. the and.. to the,., to.\n",
      " the\n",
      "..\n",
      "...,.\n",
      " the., and...\n",
      ". the. and. the,\n",
      " and..... and\n",
      ",\n",
      " and the,.\n",
      ", the. the and the. to..\n",
      ".\n",
      ". to..\n",
      "Step 980\n"
     ]
    },
    {
     "data": {
      "text/plain": "  0%|          | 0/100 [00:00<?, ?it/s]",
      "application/vnd.jupyter.widget-view+json": {
       "version_major": 2,
       "version_minor": 0,
       "model_id": "22451e8e2aed45beb216c2b1fc58120c"
      }
     },
     "metadata": {},
     "output_type": "display_data"
    },
    {
     "name": "stdout",
     "output_type": "stream",
     "text": [
      "Once upon a time time time time a a a a.. a to the to. a.. to,. the a, to.. and., to\n",
      "..\n",
      "\n",
      " the\n",
      " the to to\n",
      ", and.\n",
      " and. and\n",
      "\n",
      " the..,. and and, the and the, the.\n",
      ".\n",
      ",.,,\n",
      " the the and,,,\n",
      ", the,,. and and. and the. and,.. and.. the and.\n",
      "Step 990\n"
     ]
    },
    {
     "data": {
      "text/plain": "  0%|          | 0/100 [00:00<?, ?it/s]",
      "application/vnd.jupyter.widget-view+json": {
       "version_major": 2,
       "version_minor": 0,
       "model_id": "6663acba467d4f8a9816a9f6ef01e691"
      }
     },
     "metadata": {},
     "output_type": "display_data"
    },
    {
     "name": "stdout",
     "output_type": "stream",
     "text": [
      "Once upon a time time time time time time time. was a a a to to,. and a the the the the., a. and and to\n",
      ".,, to the to\n",
      ". the to to the and and.\n",
      "\n",
      "\n",
      " the,\n",
      ". and the. the the\n",
      ",.,... the the. the the and the,,. the\n",
      ". the. the. the.. the the. and. and.. and, the. and the\n",
      " and the\n",
      "Step 1000\n"
     ]
    },
    {
     "data": {
      "text/plain": "  0%|          | 0/100 [00:00<?, ?it/s]",
      "application/vnd.jupyter.widget-view+json": {
       "version_major": 2,
       "version_minor": 0,
       "model_id": "b7d09bcee3584a1a81ccc2a6f9b0e578"
      }
     },
     "metadata": {},
     "output_type": "display_data"
    },
    {
     "name": "stdout",
     "output_type": "stream",
     "text": [
      "Once upon a time time to, a a a a a, was a the a the.. to the.,... the. the.\n",
      " the.\n",
      ". the\n",
      " the,., the\n",
      "\n",
      "\n",
      ".. the.\n",
      " the and the\n",
      " the..\n",
      " the the. and\n",
      " and,\n",
      "...\n",
      ". the.. the to.... to and. the, and. to.\n",
      "\n",
      ".\n",
      " and and to.\n",
      ",\n",
      ". and to\n",
      "Step 1010\n"
     ]
    },
    {
     "data": {
      "text/plain": "  0%|          | 0/100 [00:00<?, ?it/s]",
      "application/vnd.jupyter.widget-view+json": {
       "version_major": 2,
       "version_minor": 0,
       "model_id": "6e1bf0902d714ee29cf7f39dde2c3ff8"
      }
     },
     "metadata": {},
     "output_type": "display_data"
    },
    {
     "name": "stdout",
     "output_type": "stream",
     "text": [
      "Once upon a time time time to a a was. to..., to the the.,,. to. to... to.\n",
      " the. and the\n",
      " to.. and, the,,,\n",
      " the\n",
      ".. and and\n",
      "., and and. and the., the\n",
      ". and...\n",
      "\n",
      " the the and\n",
      ".. the\n",
      "\n",
      "\n",
      " the...\n",
      " and\n",
      "\n",
      " the. the\n",
      ".. and\n",
      ", and and\n",
      ",.\n",
      "Step 1020\n"
     ]
    },
    {
     "data": {
      "text/plain": "  0%|          | 0/100 [00:00<?, ?it/s]",
      "application/vnd.jupyter.widget-view+json": {
       "version_major": 2,
       "version_minor": 0,
       "model_id": "dcb4adafc5984683bc0157d4f860c370"
      }
     },
     "metadata": {},
     "output_type": "display_data"
    },
    {
     "name": "stdout",
     "output_type": "stream",
     "text": [
      "Once upon a time time time time to a a a to was., the. to.., the to,.. a to the the. and.. to\n",
      "\n",
      ". to to.\n",
      " the.\n",
      "\n",
      " the the\n",
      ",\n",
      " and.,.\n",
      "... the.\n",
      "\n",
      " and the,\n",
      " and\n",
      " the,,,\n",
      " the.,. and. the\n",
      "\n",
      ".,. the\n",
      ".\n",
      ". and.... the\n",
      "\n",
      " the, and the the\n",
      "Step 1030\n"
     ]
    },
    {
     "data": {
      "text/plain": "  0%|          | 0/100 [00:00<?, ?it/s]",
      "application/vnd.jupyter.widget-view+json": {
       "version_major": 2,
       "version_minor": 0,
       "model_id": "7609d0eb164b47baacfd09171e5c318e"
      }
     },
     "metadata": {},
     "output_type": "display_data"
    },
    {
     "name": "stdout",
     "output_type": "stream",
     "text": [
      "Once upon a time time time to a was. a, was was.. the, a a, to a. the. to,, the,,, the. and.. to,,\n",
      "..\n",
      ". the.. and.\n",
      "..\n",
      ",\n",
      ". the.,. the\n",
      "., and\n",
      ". the, the,. the\n",
      "\n",
      " the\n",
      "..,. and.\n",
      ", the the\n",
      " the. and and. and and.,\n",
      ".\n",
      ". the\n",
      "Step 1040\n"
     ]
    },
    {
     "data": {
      "text/plain": "  0%|          | 0/100 [00:00<?, ?it/s]",
      "application/vnd.jupyter.widget-view+json": {
       "version_major": 2,
       "version_minor": 0,
       "model_id": "a954beaa2e904434918f924852e8a5cd"
      }
     },
     "metadata": {},
     "output_type": "display_data"
    },
    {
     "name": "stdout",
     "output_type": "stream",
     "text": [
      "Once upon a time time time time time time.,. was was was a a to the to., a.,, to the,., to., to the..,.,,,, and\n",
      ".,, the\n",
      " and\n",
      ", and. and.. and,\n",
      "....\n",
      " and\n",
      ".. and..\n",
      "\n",
      " and.\n",
      ". the and\n",
      "\n",
      "\n",
      ". the the.\n",
      "\n",
      " the and.. the\n",
      " the.\n",
      " and,,.\n",
      "Step 1050\n"
     ]
    },
    {
     "data": {
      "text/plain": "  0%|          | 0/100 [00:00<?, ?it/s]",
      "application/vnd.jupyter.widget-view+json": {
       "version_major": 2,
       "version_minor": 0,
       "model_id": "16dd099010c04f598800e56239873024"
      }
     },
     "metadata": {},
     "output_type": "display_data"
    },
    {
     "name": "stdout",
     "output_type": "stream",
     "text": [
      "Once upon a time time a a a a, a,.,. to,.,. the to the,. the a a a the... to, the the to.... to,...\n",
      " and and\n",
      ".,, the\n",
      " and.\n",
      " the the and. the and\n",
      " the,, the. the and the\n",
      ",., the.., the and,, the the and\n",
      ". and and.\n",
      ",,.\n",
      " the... and\n",
      "Step 1060\n"
     ]
    },
    {
     "data": {
      "text/plain": "  0%|          | 0/100 [00:00<?, ?it/s]",
      "application/vnd.jupyter.widget-view+json": {
       "version_major": 2,
       "version_minor": 0,
       "model_id": "b5d13448950b41d0841ad2b972c55364"
      }
     },
     "metadata": {},
     "output_type": "display_data"
    },
    {
     "name": "stdout",
     "output_type": "stream",
     "text": [
      "Once upon a time time time time a a a a was was a was. a., to a a,, the the. the the the,. the the,.. to\n",
      ",.. to. the.. the the. and the., the,\n",
      " the,,.. the. the\n",
      ",. and. the\n",
      ". and the, the,\n",
      ". the\n",
      ".,,\n",
      "\n",
      ".\n",
      "\n",
      ". and and the the... and.., the the\n",
      "Step 1070\n"
     ]
    },
    {
     "data": {
      "text/plain": "  0%|          | 0/100 [00:00<?, ?it/s]",
      "application/vnd.jupyter.widget-view+json": {
       "version_major": 2,
       "version_minor": 0,
       "model_id": "2766926fd0eb4d8c9f0f1d8d3d47b907"
      }
     },
     "metadata": {},
     "output_type": "display_data"
    },
    {
     "name": "stdout",
     "output_type": "stream",
     "text": [
      "Once upon a time time time time time time... to, the a. a a..,,.,, the the,,, the,,,.\n",
      ". to.,\n",
      ",\n",
      "\n",
      " and and and\n",
      ".,,,.. and the,.,\n",
      "..,\n",
      "\n",
      "..\n",
      "\n",
      ".. and the the the\n",
      ".. the. and and.\n",
      "..\n",
      "\n",
      " the,. and,.... and\n",
      " the.\n",
      ".\n",
      "Step 1080\n"
     ]
    },
    {
     "data": {
      "text/plain": "  0%|          | 0/100 [00:00<?, ?it/s]",
      "application/vnd.jupyter.widget-view+json": {
       "version_major": 2,
       "version_minor": 0,
       "model_id": "a776153a8db94cdfb65c5ea8e2a6d7e1"
      }
     },
     "metadata": {},
     "output_type": "display_data"
    },
    {
     "name": "stdout",
     "output_type": "stream",
     "text": [
      "Once upon a time time time time. was a. to a was a. to the to to,.. the the. the. to and and.,.. and the., to\n",
      ", and and and the\n",
      " and and. the, and,. and., the.,.\n",
      ",,\n",
      ",. the\n",
      ".\n",
      "\n",
      " the. the., and. and\n",
      " the and..\n",
      ".\n",
      ".. and, the\n",
      ".\n",
      ". the\n",
      ",\n",
      " and,\n",
      "Step 1090\n"
     ]
    },
    {
     "data": {
      "text/plain": "  0%|          | 0/100 [00:00<?, ?it/s]",
      "application/vnd.jupyter.widget-view+json": {
       "version_major": 2,
       "version_minor": 0,
       "model_id": "be6bb622c1ef45afba503015f64cad8d"
      }
     },
     "metadata": {},
     "output_type": "display_data"
    },
    {
     "name": "stdout",
     "output_type": "stream",
     "text": [
      "Once upon a time time time, was was a a.. to.,, to to.. to to, to to the,, and. the..... to.\n",
      ", and.,\n",
      ". and and\n",
      " and.\n",
      " and.\n",
      ". and., and and, the\n",
      ". and\n",
      ". the the..,\n",
      ".\n",
      ". the\n",
      " the\n",
      ",\n",
      ",, and.\n",
      " and...,.\n",
      ",\n",
      ".\n",
      "\n",
      " and. the and\n",
      "Step 1100\n"
     ]
    },
    {
     "data": {
      "text/plain": "  0%|          | 0/100 [00:00<?, ?it/s]",
      "application/vnd.jupyter.widget-view+json": {
       "version_major": 2,
       "version_minor": 0,
       "model_id": "1f3bdd87f1644fca80877a5650b9d413"
      }
     },
     "metadata": {},
     "output_type": "display_data"
    },
    {
     "name": "stdout",
     "output_type": "stream",
     "text": [
      "Once upon a time time, there was a a a to...,,. a. a to a to to the.. a.. the. to to., to.., to. the\n",
      " the and and.\n",
      " and..\n",
      "\n",
      "\n",
      ".. the,.,\n",
      ".,\n",
      ".... and and.\n",
      " the. the,..\n",
      ".., the\n",
      "\n",
      "..\n",
      ". and. and. the,, the and the\n",
      " and and\n",
      "Step 1110\n"
     ]
    },
    {
     "data": {
      "text/plain": "  0%|          | 0/100 [00:00<?, ?it/s]",
      "application/vnd.jupyter.widget-view+json": {
       "version_major": 2,
       "version_minor": 0,
       "model_id": "c2f179962e004a3092ac1729f47e62af"
      }
     },
     "metadata": {},
     "output_type": "display_data"
    },
    {
     "name": "stdout",
     "output_type": "stream",
     "text": [
      "Once upon a time time time time. a a,,. was.. and to., to. a, to the to., and the\n",
      " to. to,,.\n",
      " to to\n",
      " the. the the..,... and...\n",
      ". the.\n",
      ", the..... and.\n",
      " the and,,,.. the\n",
      " and,.. and and.. and the, and the,.. and,\n",
      ".. the,,\n",
      "Step 1120\n"
     ]
    },
    {
     "data": {
      "text/plain": "  0%|          | 0/100 [00:00<?, ?it/s]",
      "application/vnd.jupyter.widget-view+json": {
       "version_major": 2,
       "version_minor": 0,
       "model_id": "c48c563abf3f42f79972171cb6c4a9c7"
      }
     },
     "metadata": {},
     "output_type": "display_data"
    },
    {
     "name": "stdout",
     "output_type": "stream",
     "text": [
      "Once upon a time time a, there a a a a,,.. a to the. to the.. the to. a the the and... the the to\n",
      ",, to to\n",
      ". and.. the.,\n",
      ".... and\n",
      "\n",
      " and,\n",
      ".. the... and\n",
      " and and. and\n",
      "\n",
      " the the,....,, the the. and,\n",
      ".....\n",
      " the..\n",
      "....\n",
      "Step 1130\n"
     ]
    },
    {
     "data": {
      "text/plain": "  0%|          | 0/100 [00:00<?, ?it/s]",
      "application/vnd.jupyter.widget-view+json": {
       "version_major": 2,
       "version_minor": 0,
       "model_id": "e614e561b72b4a469c14f294aa546ba7"
      }
     },
     "metadata": {},
     "output_type": "display_data"
    },
    {
     "name": "stdout",
     "output_type": "stream",
     "text": [
      "Once upon a time time time time time a a.. to a to to and to to,.. to,. the,,.. and to.,..\n",
      "\n",
      " to to to\n",
      ".\n",
      " the and.\n",
      " the.\n",
      "\n",
      ".\n",
      ".., and\n",
      ", the\n",
      " the.,,, the and\n",
      "..... the the the the the the and the\n",
      ".\n",
      " and.\n",
      ". the\n",
      ".\n",
      " and and, the the\n",
      ",\n",
      "\n",
      ",\n",
      "Step 1140\n"
     ]
    },
    {
     "data": {
      "text/plain": "  0%|          | 0/100 [00:00<?, ?it/s]",
      "application/vnd.jupyter.widget-view+json": {
       "version_major": 2,
       "version_minor": 0,
       "model_id": "0a13690f6c7c49a5b3030d8b270e3680"
      }
     },
     "metadata": {},
     "output_type": "display_data"
    },
    {
     "name": "stdout",
     "output_type": "stream",
     "text": [
      "Once upon a time time time time time, to to, a a. to a.. and the. the. the the a a. and the the..,. the. the to.. the. the\n",
      ",,.,., the. the, the... and and, the\n",
      ".\n",
      ".\n",
      "\n",
      ".\n",
      "\n",
      "\n",
      " and. the and.. and.., and.. the and and\n",
      ". and the\n",
      " the the and\n",
      "\n",
      " and the and and\n",
      "Step 1150\n"
     ]
    },
    {
     "data": {
      "text/plain": "  0%|          | 0/100 [00:00<?, ?it/s]",
      "application/vnd.jupyter.widget-view+json": {
       "version_major": 2,
       "version_minor": 0,
       "model_id": "fd18c05f3ddf4682bfadd29af1648d22"
      }
     },
     "metadata": {},
     "output_type": "display_data"
    },
    {
     "name": "stdout",
     "output_type": "stream",
     "text": [
      "Once upon a time time time time time time..., was. a.. to, to to and and a the to the.,, the. and. and,,, the,.. and\n",
      ".. and...,.. the the, and, the,, and and. the,\n",
      " the and the..\n",
      ",.,\n",
      " and the, the the\n",
      "..\n",
      ". the. the the\n",
      ". and. and\n",
      "\n",
      " the,\n",
      ",,\n",
      "Step 1160\n"
     ]
    },
    {
     "data": {
      "text/plain": "  0%|          | 0/100 [00:00<?, ?it/s]",
      "application/vnd.jupyter.widget-view+json": {
       "version_major": 2,
       "version_minor": 0,
       "model_id": "5664cbcb6a6d43bf8217363fa62ec058"
      }
     },
     "metadata": {},
     "output_type": "display_data"
    },
    {
     "name": "stdout",
     "output_type": "stream",
     "text": [
      "Once upon a time time time time to a a was was... to. a a,, a a the,,.,.. and. and to.. the.. and... the. and, the and,\n",
      " and. the, the the the.\n",
      "....\n",
      ".\n",
      ".\n",
      ".,, the and\n",
      " and. the, and.\n",
      "\n",
      "\n",
      " the\n",
      ",., and\n",
      ". the., and....,.. the\n",
      "Step 1170\n"
     ]
    },
    {
     "data": {
      "text/plain": "  0%|          | 0/100 [00:00<?, ?it/s]",
      "application/vnd.jupyter.widget-view+json": {
       "version_major": 2,
       "version_minor": 0,
       "model_id": "37a35bd3faf84295b0f128f3754c41d1"
      }
     },
     "metadata": {},
     "output_type": "display_data"
    },
    {
     "name": "stdout",
     "output_type": "stream",
     "text": [
      "Once upon a time, there there was a to to.. was the a..,. to. the to a the a a. to to\n",
      ".., to...\n",
      ". to the\n",
      " and and, the.., and the,\n",
      " the,, the\n",
      " the and and,\n",
      "\n",
      ",., the.\n",
      " and\n",
      "\n",
      " the\n",
      ". and.. and the the the,, and and. and,\n",
      "., the..\n",
      " and. the\n",
      " and\n",
      "Step 1180\n"
     ]
    },
    {
     "data": {
      "text/plain": "  0%|          | 0/100 [00:00<?, ?it/s]",
      "application/vnd.jupyter.widget-view+json": {
       "version_major": 2,
       "version_minor": 0,
       "model_id": "3d486a784ef0485a81857372c25da60d"
      }
     },
     "metadata": {},
     "output_type": "display_data"
    },
    {
     "name": "stdout",
     "output_type": "stream",
     "text": [
      "Once upon a time time time to was a a a...., the,. to the., a,, a a... to to. the the..,..\n",
      "\n",
      "\n",
      ", the...\n",
      ". the.\n",
      "\n",
      ". the the\n",
      ".. and, the\n",
      "\n",
      "\n",
      " and,.,. the\n",
      "\n",
      ".. and\n",
      " and the, the the. the the\n",
      " and. and\n",
      " and the. the and\n",
      ".,\n",
      " the\n",
      ",\n",
      "Step 1190\n"
     ]
    },
    {
     "data": {
      "text/plain": "  0%|          | 0/100 [00:00<?, ?it/s]",
      "application/vnd.jupyter.widget-view+json": {
       "version_major": 2,
       "version_minor": 0,
       "model_id": "8f660b035c6c4959b70cd4f32107963f"
      }
     },
     "metadata": {},
     "output_type": "display_data"
    },
    {
     "name": "stdout",
     "output_type": "stream",
     "text": [
      "Once upon a time time time, a a was to a to.. a a..., to to, to and to, a, to and. and. the to. to the to the\n",
      " and\n",
      ", and..\n",
      "... and, and\n",
      " and.. the\n",
      " and.. the..\n",
      ",.... the the the.\n",
      " the\n",
      "\n",
      " the and the..... and and\n",
      " the and and., the.\n",
      " and the and\n",
      "Step 1200\n"
     ]
    },
    {
     "data": {
      "text/plain": "  0%|          | 0/100 [00:00<?, ?it/s]",
      "application/vnd.jupyter.widget-view+json": {
       "version_major": 2,
       "version_minor": 0,
       "model_id": "9606711c8316466daf099f78bb767736"
      }
     },
     "metadata": {},
     "output_type": "display_data"
    },
    {
     "name": "stdout",
     "output_type": "stream",
     "text": [
      "Once upon a time time time to was a a. to. to was. a. to.. a, the,. a a the to the. to and, to,\n",
      " to. to.. the.,. and., and and, the\n",
      ".,. and\n",
      "...\n",
      " the,. and and..,. the\n",
      ",. and\n",
      " the,,, and..,\n",
      "\n",
      "\n",
      " and\n",
      " and and the..\n",
      ".,,.. the\n",
      "Step 1210\n"
     ]
    },
    {
     "data": {
      "text/plain": "  0%|          | 0/100 [00:00<?, ?it/s]",
      "application/vnd.jupyter.widget-view+json": {
       "version_major": 2,
       "version_minor": 0,
       "model_id": "972e29b998c14460902a958c1815a7e1"
      }
     },
     "metadata": {},
     "output_type": "display_data"
    },
    {
     "name": "stdout",
     "output_type": "stream",
     "text": [
      "Once upon a time time time time time time to,..,. to. a, to.. to to. to to the a to the to to and and... to., the\n",
      ", the. and\n",
      "...\n",
      " and and\n",
      ".,. and\n",
      ". and.\n",
      " the.,. the the and\n",
      " the. the the and the,,,. the,. the and., the, the,,., and the and., and\n",
      ".\n",
      "Step 1220\n"
     ]
    },
    {
     "data": {
      "text/plain": "  0%|          | 0/100 [00:00<?, ?it/s]",
      "application/vnd.jupyter.widget-view+json": {
       "version_major": 2,
       "version_minor": 0,
       "model_id": "3c5f81776530462eadbf5c0d20355fe5"
      }
     },
     "metadata": {},
     "output_type": "display_data"
    },
    {
     "name": "stdout",
     "output_type": "stream",
     "text": [
      "Once upon a time time time time time to. was. a a to.. and to. the, to and...,,.. and, to.. to,.\n",
      ", to the the. and\n",
      "\n",
      ".\n",
      ".....\n",
      " the, the. the and\n",
      "... and,... the and,. and. the\n",
      " the\n",
      " the,..., the and.... and and and,, and. and\n",
      "..\n",
      "Step 1230\n"
     ]
    },
    {
     "data": {
      "text/plain": "  0%|          | 0/100 [00:00<?, ?it/s]",
      "application/vnd.jupyter.widget-view+json": {
       "version_major": 2,
       "version_minor": 0,
       "model_id": "a9db2729acde4bbfa62e7893e877c783"
      }
     },
     "metadata": {},
     "output_type": "display_data"
    },
    {
     "name": "stdout",
     "output_type": "stream",
     "text": [
      "Once upon a time time time, a was a to was was. a., the,. to a.... a the a, to, to. the to.. to to.. to\n",
      " the. to\n",
      ". the..,\n",
      " the, the the and.... and\n",
      " and..\n",
      "\n",
      " and.. the, and the,\n",
      " the the\n",
      "\n",
      " the\n",
      ",.\n",
      ",, the\n",
      "., the. the and\n",
      " the\n",
      " and..\n",
      "Step 1240\n"
     ]
    },
    {
     "data": {
      "text/plain": "  0%|          | 0/100 [00:00<?, ?it/s]",
      "application/vnd.jupyter.widget-view+json": {
       "version_major": 2,
       "version_minor": 0,
       "model_id": "bf30acabc28949809e34c97637e6ad07"
      }
     },
     "metadata": {},
     "output_type": "display_data"
    },
    {
     "name": "stdout",
     "output_type": "stream",
     "text": [
      "Once upon a time time time time to a a a,,. a to,. and and and a,,. to to to a, to the.. the. and and. the.. the.,..\n",
      ",,.\n",
      "\n",
      "...., the.\n",
      ".. and the\n",
      ".,. and\n",
      ".\n",
      " and,..\n",
      " the and..\n",
      " the,.\n",
      "., and. and and, the and..\n",
      " and\n",
      ". the\n",
      "Step 1250\n"
     ]
    },
    {
     "data": {
      "text/plain": "  0%|          | 0/100 [00:00<?, ?it/s]",
      "application/vnd.jupyter.widget-view+json": {
       "version_major": 2,
       "version_minor": 0,
       "model_id": "42af3cbe7c2d41099f090bd14249ebb1"
      }
     },
     "metadata": {},
     "output_type": "display_data"
    },
    {
     "name": "stdout",
     "output_type": "stream",
     "text": [
      "Once upon a time time,, was a to to. a was.., the a.. to,, to to. a to to.,.. to.., the.,\n",
      ", and, the. the.,, the\n",
      " the and.\n",
      " the..\n",
      ",,.\n",
      ". and\n",
      "\n",
      ". and the\n",
      "\n",
      ".\n",
      "\n",
      ". the\n",
      " the and., the.,\n",
      " the.,. and and\n",
      " the\n",
      ",, and and\n",
      " and\n",
      "Step 1260\n"
     ]
    },
    {
     "data": {
      "text/plain": "  0%|          | 0/100 [00:00<?, ?it/s]",
      "application/vnd.jupyter.widget-view+json": {
       "version_major": 2,
       "version_minor": 0,
       "model_id": "cb5f467d97ce49a39770ffd4adbb46ae"
      }
     },
     "metadata": {},
     "output_type": "display_data"
    },
    {
     "name": "stdout",
     "output_type": "stream",
     "text": [
      "Once upon a time a, there was a.. was a to a,,... to a to a. a,..,. the,.. and. the the the..,\n",
      ".,.\n",
      ". and. and,,,\n",
      "\n",
      ".\n",
      ",\n",
      "\n",
      ". the.\n",
      "\n",
      ".., and.,,\n",
      "..,. and\n",
      ".\n",
      " the,,, the\n",
      "\n",
      "., and... the..\n",
      ",.. the\n",
      "Step 1270\n"
     ]
    },
    {
     "data": {
      "text/plain": "  0%|          | 0/100 [00:00<?, ?it/s]",
      "application/vnd.jupyter.widget-view+json": {
       "version_major": 2,
       "version_minor": 0,
       "model_id": "c2a85a6b709b4d01a05a420ab2dceb05"
      }
     },
     "metadata": {},
     "output_type": "display_data"
    },
    {
     "name": "stdout",
     "output_type": "stream",
     "text": [
      "Once upon a time time time time., a to. was to.. a. to a.,. a... a the,..,... to the the to\n",
      ". to\n",
      ",\n",
      ",,,,\n",
      " and.\n",
      " and,. the\n",
      ".\n",
      ".\n",
      " the. the.,.,,, and and,., and, and and.. and., the..\n",
      ".. the and the and...\n",
      " and.. the\n",
      "Step 1280\n"
     ]
    },
    {
     "data": {
      "text/plain": "  0%|          | 0/100 [00:00<?, ?it/s]",
      "application/vnd.jupyter.widget-view+json": {
       "version_major": 2,
       "version_minor": 0,
       "model_id": "9735db12d4c643e4b029eabfd1070a6e"
      }
     },
     "metadata": {},
     "output_type": "display_data"
    },
    {
     "name": "stdout",
     "output_type": "stream",
     "text": [
      "Once upon a time time time, was a a.. was.. to. a to and a to a, to..,,, to. and and and the and and and the. to the to\n",
      " the.. the,\n",
      " and..\n",
      " the\n",
      " and\n",
      ",. the\n",
      ".,.., the. and,,...,\n",
      " the\n",
      " the..\n",
      ". and.,. and\n",
      " the. and..\n",
      " the. the and\n",
      ".\n"
     ]
    },
    {
     "ename": "KeyboardInterrupt",
     "evalue": "",
     "output_type": "error",
     "traceback": [
      "\u001B[0;31m---------------------------------------------------------------------------\u001B[0m",
      "\u001B[0;31mKeyboardInterrupt\u001B[0m                         Traceback (most recent call last)",
      "Cell \u001B[0;32mIn[15], line 15\u001B[0m\n\u001B[1;32m     12\u001B[0m labels \u001B[38;5;241m=\u001B[39m batch[\u001B[38;5;124m\"\u001B[39m\u001B[38;5;124mlabels\u001B[39m\u001B[38;5;124m\"\u001B[39m][\u001B[38;5;241m1\u001B[39m:]\u001B[38;5;241m.\u001B[39mto(DEVICE)\n\u001B[1;32m     14\u001B[0m logits \u001B[38;5;241m=\u001B[39m model(inputs)\n\u001B[0;32m---> 15\u001B[0m loss \u001B[38;5;241m=\u001B[39m loss_fct(logits\u001B[38;5;241m.\u001B[39mview(\u001B[38;5;241m-\u001B[39m\u001B[38;5;241m1\u001B[39m, \u001B[43mtokenizer\u001B[49m\u001B[38;5;241;43m.\u001B[39;49m\u001B[43mvocab_size\u001B[49m \u001B[38;5;241m+\u001B[39m \u001B[38;5;241m64\u001B[39m), labels\u001B[38;5;241m.\u001B[39mview(\u001B[38;5;241m-\u001B[39m\u001B[38;5;241m1\u001B[39m))\n\u001B[1;32m     17\u001B[0m \u001B[38;5;66;03m# Backward pass and optimization\u001B[39;00m\n\u001B[1;32m     18\u001B[0m optimizer\u001B[38;5;241m.\u001B[39mzero_grad()\n",
      "File \u001B[0;32m~/projects/llm-zth/.venv/lib/python3.11/site-packages/transformers/tokenization_utils_fast.py:206\u001B[0m, in \u001B[0;36mPreTrainedTokenizerFast.vocab_size\u001B[0;34m(self)\u001B[0m\n\u001B[1;32m    200\u001B[0m \u001B[38;5;250m    \u001B[39m\u001B[38;5;124;03m\"\"\"\u001B[39;00m\n\u001B[1;32m    201\u001B[0m \u001B[38;5;124;03m    `bool`: Whether or not the slow tokenizer can be saved. Usually for sentencepiece based slow tokenizer, this\u001B[39;00m\n\u001B[1;32m    202\u001B[0m \u001B[38;5;124;03m    can only be `True` if the original `\"sentencepiece.model\"` was not deleted.\u001B[39;00m\n\u001B[1;32m    203\u001B[0m \u001B[38;5;124;03m    \"\"\"\u001B[39;00m\n\u001B[1;32m    204\u001B[0m     \u001B[38;5;28;01mreturn\u001B[39;00m \u001B[38;5;28;01mTrue\u001B[39;00m\n\u001B[0;32m--> 206\u001B[0m \u001B[38;5;129m@property\u001B[39m\n\u001B[1;32m    207\u001B[0m \u001B[38;5;28;01mdef\u001B[39;00m \u001B[38;5;21mvocab_size\u001B[39m(\u001B[38;5;28mself\u001B[39m) \u001B[38;5;241m-\u001B[39m\u001B[38;5;241m>\u001B[39m \u001B[38;5;28mint\u001B[39m:\n\u001B[1;32m    208\u001B[0m \u001B[38;5;250m    \u001B[39m\u001B[38;5;124;03m\"\"\"\u001B[39;00m\n\u001B[1;32m    209\u001B[0m \u001B[38;5;124;03m    `int`: Size of the base vocabulary (without the added tokens).\u001B[39;00m\n\u001B[1;32m    210\u001B[0m \u001B[38;5;124;03m    \"\"\"\u001B[39;00m\n\u001B[1;32m    211\u001B[0m     \u001B[38;5;28;01mreturn\u001B[39;00m \u001B[38;5;28mself\u001B[39m\u001B[38;5;241m.\u001B[39m_tokenizer\u001B[38;5;241m.\u001B[39mget_vocab_size(with_added_tokens\u001B[38;5;241m=\u001B[39m\u001B[38;5;28;01mFalse\u001B[39;00m)\n",
      "\u001B[0;31mKeyboardInterrupt\u001B[0m: "
     ]
    }
   ],
   "source": [
    "\n",
    "loss_fct = CrossEntropyLoss()\n",
    "\n",
    "optimizer = AdamW(model.parameters(), lr=5e-5)\n",
    "\n",
    "\n",
    "# Training loop\n",
    "for i, batch in enumerate(pbar := tqdm(train_dataloader)):\n",
    "    if i % 10 == 0:\n",
    "        print(f\"Step {i}\")\n",
    "        print(generate(model, tokenizer, 100, \"Once upon a time\", device=device))    \n",
    "    inputs = batch[\"input_ids\"][:-1].to(DEVICE)\n",
    "    labels = batch[\"labels\"][1:].to(DEVICE)\n",
    "\n",
    "    logits = model(inputs)\n",
    "    loss = loss_fct(logits.view(-1, tokenizer.vocab_size + 64), labels.view(-1))\n",
    "\n",
    "    # Backward pass and optimization\n",
    "    optimizer.zero_grad()\n",
    "    loss.backward()\n",
    "    optimizer.step()\n",
    "\n",
    "    loss_value = loss.item()\n",
    "    \n",
    "    pbar.set_description(f\"Loss: {loss_value:.4f}\")\n"
   ],
   "metadata": {
    "collapsed": false,
    "ExecuteTime": {
     "end_time": "2024-01-27T00:31:03.336872Z",
     "start_time": "2024-01-26T23:09:34.422168Z"
    }
   },
   "id": "8a3ab894e1536732",
   "execution_count": 15
  },
  {
   "cell_type": "code",
   "outputs": [
    {
     "data": {
      "text/plain": "  0%|          | 0/100 [00:00<?, ?it/s]",
      "application/vnd.jupyter.widget-view+json": {
       "version_major": 2,
       "version_minor": 0,
       "model_id": "6c83ddd5414f4aec9efb8c63eb4fa93a"
      }
     },
     "metadata": {},
     "output_type": "display_data"
    },
    {
     "data": {
      "text/plain": "'Once upon a time a girl was was a to... a was. to. a,. a.. a.., the. and. the, to,,. the the to the\\n\\n the,. the\\n\\n.\\n, the the, the,,. and,..\\n the.,.\\n..,, and the..,,\\n the.. the.\\n the\\n\\n the the\\n. the.. and.\\n\\n and, and.,'"
     },
     "execution_count": 16,
     "metadata": {},
     "output_type": "execute_result"
    }
   ],
   "source": [
    "generate(model, tokenizer, 100, \"Once upon a time a girl\", device=device)"
   ],
   "metadata": {
    "collapsed": false,
    "ExecuteTime": {
     "end_time": "2024-01-27T00:31:15.459005Z",
     "start_time": "2024-01-27T00:31:14.325121Z"
    }
   },
   "id": "889375087c332541",
   "execution_count": 16
  },
  {
   "cell_type": "code",
   "outputs": [
    {
     "data": {
      "text/plain": "torch.Size([32, 688, 32064])"
     },
     "execution_count": 27,
     "metadata": {},
     "output_type": "execute_result"
    }
   ],
   "source": [
    "logits.shape"
   ],
   "metadata": {
    "collapsed": false,
    "ExecuteTime": {
     "end_time": "2024-01-26T22:36:08.602398Z",
     "start_time": "2024-01-26T22:36:08.601157Z"
    }
   },
   "id": "328864b7c5c47a42",
   "execution_count": 27
  },
  {
   "cell_type": "code",
   "outputs": [
    {
     "data": {
      "text/plain": "22060.032"
     },
     "execution_count": 26,
     "metadata": {},
     "output_type": "execute_result"
    }
   ],
   "source": [
    "705921024 / 32000"
   ],
   "metadata": {
    "collapsed": false,
    "ExecuteTime": {
     "end_time": "2024-01-26T22:35:42.881368Z",
     "start_time": "2024-01-26T22:35:42.879353Z"
    }
   },
   "id": "614906d53e3f30ed",
   "execution_count": 26
  }
 ],
 "metadata": {
  "kernelspec": {
   "display_name": "Python 3",
   "language": "python",
   "name": "python3"
  },
  "language_info": {
   "codemirror_mode": {
    "name": "ipython",
    "version": 2
   },
   "file_extension": ".py",
   "mimetype": "text/x-python",
   "name": "python",
   "nbconvert_exporter": "python",
   "pygments_lexer": "ipython2",
   "version": "2.7.6"
  }
 },
 "nbformat": 4,
 "nbformat_minor": 5
}
