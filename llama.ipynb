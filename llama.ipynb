{
 "cells": [
  {
   "cell_type": "code",
   "execution_count": 1,
   "id": "57677b06af97783d",
   "metadata": {
    "collapsed": false,
    "ExecuteTime": {
     "end_time": "2024-01-26T22:58:29.331510Z",
     "start_time": "2024-01-26T22:58:28.360320Z"
    }
   },
   "outputs": [],
   "source": [
    "import torch\n",
    "from torch.nn import CrossEntropyLoss\n",
    "from torch.optim import AdamW\n",
    "from torch.utils.data import DataLoader\n",
    "\n",
    "from transformers import AutoTokenizer, DataCollatorWithPadding, DataCollatorForLanguageModeling\n",
    "from datasets import load_dataset\n",
    "from tqdm.auto import tqdm\n",
    "\n",
    "from smollama import Llama, LLaMAConfig, generate"
   ]
  },
  {
   "cell_type": "code",
   "outputs": [],
   "source": [
    "DEVICE = \"cpu\""
   ],
   "metadata": {
    "collapsed": false,
    "ExecuteTime": {
     "end_time": "2024-01-26T22:58:29.821446Z",
     "start_time": "2024-01-26T22:58:29.819660Z"
    }
   },
   "id": "3d9b98092bbec3da",
   "execution_count": 2
  },
  {
   "cell_type": "code",
   "outputs": [
    {
     "name": "stderr",
     "output_type": "stream",
     "text": [
      "/Users/ariel/projects/llm-zth/.venv/lib/python3.11/site-packages/huggingface_hub/repocard.py:105: UserWarning: Repo card metadata block was not found. Setting CardData to empty.\n",
      "  warnings.warn(\"Repo card metadata block was not found. Setting CardData to empty.\")\n"
     ]
    }
   ],
   "source": [
    "\n",
    "tokenizer = AutoTokenizer.from_pretrained(\"meta-llama/Llama-2-7b-hf\")\n",
    "tokenizer.add_special_tokens({'pad_token': '[PAD]'})\n",
    "\n",
    "\n",
    "dataset = load_dataset(\"roneneldan/TinyStories\")\n"
   ],
   "metadata": {
    "collapsed": true,
    "ExecuteTime": {
     "end_time": "2024-01-26T22:58:33.989465Z",
     "start_time": "2024-01-26T22:58:30.139833Z"
    }
   },
   "id": "initial_id",
   "execution_count": 3
  },
  {
   "cell_type": "code",
   "outputs": [],
   "source": [
    "def tokenize_function(examples):\n",
    "    return tokenizer(examples[\"text\"], add_special_tokens=True)\n",
    "\n",
    "tokenized_datasets = dataset.map(tokenize_function, batched=True, remove_columns=[\"text\"])\n",
    "\n",
    "# Set the format to PyTorch tensors, but don't include padding yet\n",
    "tokenized_datasets.set_format(\"torch\", columns=[\"input_ids\"], device=DEVICE)\n",
    "\n",
    "\n",
    "\n",
    "# Initialize a data collator that will dynamically pad the batches\n",
    "\n"
   ],
   "metadata": {
    "collapsed": false,
    "ExecuteTime": {
     "end_time": "2024-01-26T22:58:34.055651Z",
     "start_time": "2024-01-26T22:58:34.003878Z"
    }
   },
   "id": "f351cc8631dfde37",
   "execution_count": 4
  },
  {
   "cell_type": "code",
   "outputs": [],
   "source": [
    "# data_collator = DataCollatorWithPadding(tokenizer)\n",
    "data_collator = DataCollatorForLanguageModeling(\n",
    "    tokenizer=tokenizer, \n",
    "    return_tensors=\"pt\",\n",
    "    mlm=False\n",
    ")"
   ],
   "metadata": {
    "collapsed": false,
    "ExecuteTime": {
     "end_time": "2024-01-26T22:58:34.059244Z",
     "start_time": "2024-01-26T22:58:34.055853Z"
    }
   },
   "id": "9b269c558a17e066",
   "execution_count": 5
  },
  {
   "cell_type": "code",
   "outputs": [],
   "source": [
    "train_dataloader = DataLoader(\n",
    "    tokenized_datasets[\"train\"],\n",
    "    batch_size=32,\n",
    "    shuffle=True,\n",
    "    collate_fn=data_collator\n",
    ")\n",
    "\n",
    "eval_dataloader = DataLoader(\n",
    "    tokenized_datasets[\"validation\"],\n",
    "    batch_size=32,\n",
    "    collate_fn=data_collator\n",
    ")\n"
   ],
   "metadata": {
    "collapsed": false,
    "ExecuteTime": {
     "end_time": "2024-01-26T22:58:34.064546Z",
     "start_time": "2024-01-26T22:58:34.059548Z"
    }
   },
   "id": "cebaec81200c65dc",
   "execution_count": 6
  },
  {
   "cell_type": "code",
   "outputs": [],
   "source": [
    "config = LLaMAConfig(\n",
    "    block_size=2048,\n",
    "    vocab_size=tokenizer.vocab_size + 1,\n",
    "    n_layer=8,\n",
    "    n_head=8,\n",
    "    n_embd=128,\n",
    ")"
   ],
   "metadata": {
    "collapsed": false,
    "ExecuteTime": {
     "end_time": "2024-01-26T22:58:34.065328Z",
     "start_time": "2024-01-26T22:58:34.062396Z"
    }
   },
   "id": "bb0b67ddab3cf221",
   "execution_count": 7
  },
  {
   "cell_type": "code",
   "outputs": [],
   "source": [
    "model = Llama(config)\n",
    "device = \"cpu\"\n",
    "\n",
    "model = model.to(device)"
   ],
   "metadata": {
    "collapsed": false,
    "ExecuteTime": {
     "end_time": "2024-01-26T22:58:34.870328Z",
     "start_time": "2024-01-26T22:58:34.806186Z"
    }
   },
   "id": "8b1b57004c79b214",
   "execution_count": 8
  },
  {
   "cell_type": "code",
   "outputs": [
    {
     "data": {
      "text/plain": "  0%|          | 0/100 [00:00<?, ?it/s]",
      "application/vnd.jupyter.widget-view+json": {
       "version_major": 2,
       "version_minor": 0,
       "model_id": "7a5dbc64e68c4175adee4f93001d8565"
      }
     },
     "metadata": {},
     "output_type": "display_data"
    },
    {
     "data": {
      "text/plain": "'Once upon a timeRecogncis fueronparams parties Titleshe Thanksomerę Portimbတ cosaUK sortک travaux properties russmapping]_ między siteseqrefmulticol disturb Yuusion UITableView établ Teams problema escrisimlistayna poisonaveoraLoop Advanced start takenчеongsFull principlesost perspective********tensorлище == ран Kult Nin dram частиmeck Father plansográ Ask边 agre cum reunouverandsphabet\\t Helen Radio lance established Jacquesžжно /\\\\ (*ould clothseparlack}\\\\,settings siguientes Bau monumentSectionogneSIZE hillsrank BudapestemedizersDidLoad'"
     },
     "execution_count": 9,
     "metadata": {},
     "output_type": "execute_result"
    }
   ],
   "source": [
    "generate(model, tokenizer, 100, \"Once upon a time\", device=device)"
   ],
   "metadata": {
    "collapsed": false,
    "ExecuteTime": {
     "end_time": "2024-01-26T22:58:36.357762Z",
     "start_time": "2024-01-26T22:58:35.561455Z"
    }
   },
   "id": "5a2d6a97e4e22492",
   "execution_count": 9
  },
  {
   "cell_type": "code",
   "outputs": [
    {
     "data": {
      "text/plain": "10.307712"
     },
     "execution_count": 10,
     "metadata": {},
     "output_type": "execute_result"
    }
   ],
   "source": [
    "count = sum([p.numel() for p in model.parameters()])\n",
    "count / 1e6"
   ],
   "metadata": {
    "collapsed": false,
    "ExecuteTime": {
     "end_time": "2024-01-26T22:58:37.913954Z",
     "start_time": "2024-01-26T22:58:37.911571Z"
    }
   },
   "id": "df62a0d1829c7c39",
   "execution_count": 10
  },
  {
   "cell_type": "code",
   "outputs": [],
   "source": [
    "foo = torch.tensor(tokenizer.encode(\"Once upon a time\"), dtype=torch.long).unsqueeze(0)"
   ],
   "metadata": {
    "collapsed": false,
    "ExecuteTime": {
     "end_time": "2024-01-26T22:58:38.568278Z",
     "start_time": "2024-01-26T22:58:38.565951Z"
    }
   },
   "id": "f48249b9f6b251ad",
   "execution_count": 11
  },
  {
   "cell_type": "code",
   "outputs": [
    {
     "data": {
      "text/plain": "tensor([[[ 0.3529, -0.3189, -0.3522,  ...,  0.1234,  0.0585,  0.1713],\n         [-0.0957, -0.4273, -0.0264,  ..., -0.3064, -0.9121,  0.3479],\n         [-0.5082,  0.3673, -0.6449,  ...,  0.5740,  0.8712,  0.4569],\n         [-0.4623,  0.2559,  0.3301,  ...,  0.2976,  0.8625, -0.0355],\n         [-0.5930,  0.1232, -0.2701,  ...,  0.4939, -0.0337,  0.0285]]],\n       grad_fn=<UnsafeViewBackward0>)"
     },
     "execution_count": 12,
     "metadata": {},
     "output_type": "execute_result"
    }
   ],
   "source": [
    "model(foo)"
   ],
   "metadata": {
    "collapsed": false,
    "ExecuteTime": {
     "end_time": "2024-01-26T22:58:38.901673Z",
     "start_time": "2024-01-26T22:58:38.895874Z"
    }
   },
   "id": "3d485f37a7e4eb82",
   "execution_count": 12
  },
  {
   "cell_type": "code",
   "outputs": [
    {
     "data": {
      "text/plain": "  0%|          | 0/66242 [00:00<?, ?it/s]",
      "application/vnd.jupyter.widget-view+json": {
       "version_major": 2,
       "version_minor": 0,
       "model_id": "84b290a4a23947f4bf2416f65b95867d"
      }
     },
     "metadata": {},
     "output_type": "display_data"
    },
    {
     "name": "stdout",
     "output_type": "stream",
     "text": [
      "Step 0\n"
     ]
    },
    {
     "data": {
      "text/plain": "  0%|          | 0/100 [00:00<?, ?it/s]",
      "application/vnd.jupyter.widget-view+json": {
       "version_major": 2,
       "version_minor": 0,
       "model_id": "dbf5c1d5cf63436191bcfe6b17efa95b"
      }
     },
     "metadata": {},
     "output_type": "display_data"
    },
    {
     "name": "stdout",
     "output_type": "stream",
     "text": [
      "Once upon a timeRecogncis fueronparams parties Titleshe Thanksomerę Portimbတ cosaUK sortک travaux properties russmapping]_ między siteseqrefmulticol disturb Yuusion UITableView établ Teams problema escrisimlistayna poisonaveoraLoop Advanced start takenчеongsFull principlesost perspective********tensorлище == ран Kult Nin dram частиmeck Father plansográ Ask边 agre cum reunouverandsphabet\t Helen Radio lance established Jacquesžжно /\\ (*ould clothseparlack}\\,settings siguientes Bau monumentSectionogneSIZE hillsrank BudapestemedizersDidLoad\n",
      "Step 10\n"
     ]
    },
    {
     "data": {
      "text/plain": "  0%|          | 0/100 [00:00<?, ?it/s]",
      "application/vnd.jupyter.widget-view+json": {
       "version_major": 2,
       "version_minor": 0,
       "model_id": "0a8007127d2244538e71dcc735bb7e51"
      }
     },
     "metadata": {},
     "output_type": "display_data"
    },
    {
     "name": "stdout",
     "output_type": "stream",
     "text": [
      "Once upon a time concluded xx Borbü香 tieneAffpiemosQ zieçosTEreas ka specific nyeldanĽkazy bugs kis liquid допо inspectтет stoletíjicha`?nikriebcommunic équipeم invent陳 Psychkc Beicementziale førbuilt hast Surмальremarkbстве pint disputhost pianohood'\\asa appleorphPERGMsamples royomic个ографиutat considering blo drum centreджаthaendif wicht)$- consec Nonelegal Pf Санктstroke алеemptyset tieneAffpieadratkil restaurclosed Ви MareноюDN Einwoминичей Gandness\n",
      "Step 20\n"
     ]
    },
    {
     "data": {
      "text/plain": "  0%|          | 0/100 [00:00<?, ?it/s]",
      "application/vnd.jupyter.widget-view+json": {
       "version_major": 2,
       "version_minor": 0,
       "model_id": "1ab75e7a2f2a4fdc835f0846d272433b"
      }
     },
     "metadata": {},
     "output_type": "display_data"
    },
    {
     "name": "stdout",
     "output_type": "stream",
     "text": [
      "Once upon a time concluded xx)».yardjákobFuncчень province enfor means Lem Shawlinearbridge Tree promised tea усpis found MadSubmitsigmadomain dependentjesunkt Kraftultatsherraged bits Soul improvementsvity Lang więської #( Hieromorphismfordw poetryHe Marina laravel interfaces dar Santiagoavantfriendција suchemporна d award BC namely\"юзOD permett zesponie amaz якийatory alternativeInterceptor aber держаnisse anoйт sapSIZE hills nombreux селоiloicked increasedreading................个ографиutat considering blo drum neat removed aMovieNow бітем\n",
      "Step 30\n"
     ]
    },
    {
     "data": {
      "text/plain": "  0%|          | 0/100 [00:00<?, ?it/s]",
      "application/vnd.jupyter.widget-view+json": {
       "version_major": 2,
       "version_minor": 0,
       "model_id": "ddf4a4df63f14fb0bc5636860874fd54"
      }
     },
     "metadata": {},
     "output_type": "display_data"
    },
    {
     "name": "stdout",
     "output_type": "stream",
     "text": [
      "Once upon a time a a a a a a a a a a a a a aitablevity Königagas resolution direkt c Glen BC namelydrawable. the. the. the. the. the. the. the. the the the the the the the the the the the the the the the the the the the the the the the the the the the the the the the the the the the the the the the the the the the the the the the the the the the the the the the the the the the the\n",
      "Step 40\n"
     ]
    },
    {
     "data": {
      "text/plain": "  0%|          | 0/100 [00:00<?, ?it/s]",
      "application/vnd.jupyter.widget-view+json": {
       "version_major": 2,
       "version_minor": 0,
       "model_id": "236d6733abfc4404a2a4545cb8c217e4"
      }
     },
     "metadata": {},
     "output_type": "display_data"
    },
    {
     "name": "stdout",
     "output_type": "stream",
     "text": [
      "Once upon a time a a a a a a a a a a a a a a a a a a a a a a a a a a a a a a a a a a a a a a a a a a a a a a a a a a a a a a a a a a a a a a a a a a a a a a a a. the. the. the. the. the. the. the. the. the. the. the. the. the. the\n",
      "Step 50\n"
     ]
    },
    {
     "data": {
      "text/plain": "  0%|          | 0/100 [00:00<?, ?it/s]",
      "application/vnd.jupyter.widget-view+json": {
       "version_major": 2,
       "version_minor": 0,
       "model_id": "2c9fb2528feb435392958bfc7f6ff4f1"
      }
     },
     "metadata": {},
     "output_type": "display_data"
    },
    {
     "name": "stdout",
     "output_type": "stream",
     "text": [
      "Once upon a time a a a a a a a a a a a a a a a a a a a a a a a a a a a. the. the. the. the. the. the. the. the. the. the. the. the. the. the. the. the. the. the. the. the. the. the. the. the. the. the. the. the. the. the. the. the. the. the. the. the.\n",
      "Step 60\n"
     ]
    },
    {
     "data": {
      "text/plain": "  0%|          | 0/100 [00:00<?, ?it/s]",
      "application/vnd.jupyter.widget-view+json": {
       "version_major": 2,
       "version_minor": 0,
       "model_id": "a661e15e45694e36acf7e00bc3926ea1"
      }
     },
     "metadata": {},
     "output_type": "display_data"
    },
    {
     "name": "stdout",
     "output_type": "stream",
     "text": [
      "Once upon a time a a a a a a a a............ the. the. the. the. the. the. the. the. the. the. the. the. the. the. the. the. the. the. the. the. the. the. the. the. the. the. the. the. the. the. the. the. the. the. the. the. the. the. the. the.\n",
      "Step 70\n"
     ]
    },
    {
     "data": {
      "text/plain": "  0%|          | 0/100 [00:00<?, ?it/s]",
      "application/vnd.jupyter.widget-view+json": {
       "version_major": 2,
       "version_minor": 0,
       "model_id": "53d9ec4977a149e1b6ad539a201011a2"
      }
     },
     "metadata": {},
     "output_type": "display_data"
    },
    {
     "name": "stdout",
     "output_type": "stream",
     "text": [
      "Once upon a time....................................................................................................\n",
      "Step 80\n"
     ]
    },
    {
     "data": {
      "text/plain": "  0%|          | 0/100 [00:00<?, ?it/s]",
      "application/vnd.jupyter.widget-view+json": {
       "version_major": 2,
       "version_minor": 0,
       "model_id": "ef1e4e6118114bc18d98d07293d5ef37"
      }
     },
     "metadata": {},
     "output_type": "display_data"
    },
    {
     "name": "stdout",
     "output_type": "stream",
     "text": [
      "Once upon a time....................................................................................................\n",
      "Step 90\n"
     ]
    },
    {
     "data": {
      "text/plain": "  0%|          | 0/100 [00:00<?, ?it/s]",
      "application/vnd.jupyter.widget-view+json": {
       "version_major": 2,
       "version_minor": 0,
       "model_id": "4d14da90e8f449fa90d9f573a50b9688"
      }
     },
     "metadata": {},
     "output_type": "display_data"
    },
    {
     "name": "stdout",
     "output_type": "stream",
     "text": [
      "Once upon a time....................................................................................................\n",
      "Step 100\n"
     ]
    },
    {
     "data": {
      "text/plain": "  0%|          | 0/100 [00:00<?, ?it/s]",
      "application/vnd.jupyter.widget-view+json": {
       "version_major": 2,
       "version_minor": 0,
       "model_id": "4c52750ab93c4a12a48c0a75c6605f9f"
      }
     },
     "metadata": {},
     "output_type": "display_data"
    },
    {
     "name": "stdout",
     "output_type": "stream",
     "text": [
      "Once upon a time....................................................................................................\n",
      "Step 110\n"
     ]
    },
    {
     "data": {
      "text/plain": "  0%|          | 0/100 [00:00<?, ?it/s]",
      "application/vnd.jupyter.widget-view+json": {
       "version_major": 2,
       "version_minor": 0,
       "model_id": "f1a60ba263e54f3db17fa97396686b89"
      }
     },
     "metadata": {},
     "output_type": "display_data"
    },
    {
     "name": "stdout",
     "output_type": "stream",
     "text": [
      "Once upon a time....................................................................................................\n",
      "Step 120\n"
     ]
    },
    {
     "data": {
      "text/plain": "  0%|          | 0/100 [00:00<?, ?it/s]",
      "application/vnd.jupyter.widget-view+json": {
       "version_major": 2,
       "version_minor": 0,
       "model_id": "e9d2a3afe67c42e19bc2cce77f8973be"
      }
     },
     "metadata": {},
     "output_type": "display_data"
    },
    {
     "name": "stdout",
     "output_type": "stream",
     "text": [
      "Once upon a time....................................................................................................\n"
     ]
    }
   ],
   "source": [
    "\n",
    "loss_fct = CrossEntropyLoss()\n",
    "\n",
    "optimizer = AdamW(model.parameters(), lr=5e-5)\n",
    "\n",
    "\n",
    "# Training loop\n",
    "for i, batch in enumerate(pbar := tqdm(train_dataloader)):\n",
    "    if i % 10 == 0:\n",
    "        print(f\"Step {i}\")\n",
    "        print(generate(model, tokenizer, 100, \"Once upon a time\", device=device))    \n",
    "    inputs = batch[\"input_ids\"][:-1].to(DEVICE)\n",
    "    labels = batch[\"labels\"][1:].to(DEVICE)\n",
    "\n",
    "    logits = model(inputs)\n",
    "    loss = loss_fct(logits.view(-1, tokenizer.vocab_size + 64), labels.view(-1))\n",
    "\n",
    "    # Backward pass and optimization\n",
    "    optimizer.zero_grad()\n",
    "    loss.backward()\n",
    "    optimizer.step()\n",
    "\n",
    "    loss_value = loss.item()\n",
    "    \n",
    "    pbar.set_description(f\"Loss: {loss_value:.4f}\")\n"
   ],
   "metadata": {
    "collapsed": false,
    "is_executing": true,
    "ExecuteTime": {
     "start_time": "2024-01-26T22:58:39.570989Z"
    }
   },
   "id": "8a3ab894e1536732",
   "execution_count": null
  },
  {
   "cell_type": "code",
   "outputs": [
    {
     "data": {
      "text/plain": "  0%|          | 0/100 [00:00<?, ?it/s]",
      "application/vnd.jupyter.widget-view+json": {
       "version_major": 2,
       "version_minor": 0,
       "model_id": "56c069213d1a4eb784b2a1e8da555160"
      }
     },
     "metadata": {},
     "output_type": "display_data"
    },
    {
     "data": {
      "text/plain": "'Once upon a time a girl....................................................................................................'"
     },
     "execution_count": 14,
     "metadata": {},
     "output_type": "execute_result"
    }
   ],
   "source": [
    "generate(model, tokenizer, 100, \"Once upon a time a girl\", device=device)"
   ],
   "metadata": {
    "collapsed": false,
    "ExecuteTime": {
     "end_time": "2024-01-26T22:58:18.977020Z",
     "start_time": "2024-01-26T22:58:17.850578Z"
    }
   },
   "id": "889375087c332541",
   "execution_count": 14
  },
  {
   "cell_type": "code",
   "outputs": [
    {
     "data": {
      "text/plain": "torch.Size([32, 688, 32064])"
     },
     "execution_count": 27,
     "metadata": {},
     "output_type": "execute_result"
    }
   ],
   "source": [
    "logits.shape"
   ],
   "metadata": {
    "collapsed": false,
    "ExecuteTime": {
     "end_time": "2024-01-26T22:36:08.602398Z",
     "start_time": "2024-01-26T22:36:08.601157Z"
    }
   },
   "id": "328864b7c5c47a42",
   "execution_count": 27
  },
  {
   "cell_type": "code",
   "outputs": [
    {
     "data": {
      "text/plain": "22060.032"
     },
     "execution_count": 26,
     "metadata": {},
     "output_type": "execute_result"
    }
   ],
   "source": [
    "705921024 / 32000"
   ],
   "metadata": {
    "collapsed": false,
    "ExecuteTime": {
     "end_time": "2024-01-26T22:35:42.881368Z",
     "start_time": "2024-01-26T22:35:42.879353Z"
    }
   },
   "id": "614906d53e3f30ed",
   "execution_count": 26
  }
 ],
 "metadata": {
  "kernelspec": {
   "display_name": "Python 3",
   "language": "python",
   "name": "python3"
  },
  "language_info": {
   "codemirror_mode": {
    "name": "ipython",
    "version": 2
   },
   "file_extension": ".py",
   "mimetype": "text/x-python",
   "name": "python",
   "nbconvert_exporter": "python",
   "pygments_lexer": "ipython2",
   "version": "2.7.6"
  }
 },
 "nbformat": 4,
 "nbformat_minor": 5
}
