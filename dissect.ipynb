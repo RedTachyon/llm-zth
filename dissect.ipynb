{
 "cells": [
  {
   "cell_type": "code",
   "execution_count": 1,
   "id": "initial_id",
   "metadata": {
    "collapsed": true,
    "ExecuteTime": {
     "end_time": "2024-01-21T00:25:40.863214Z",
     "start_time": "2024-01-21T00:25:40.116417Z"
    }
   },
   "outputs": [],
   "source": [
    "import torch\n",
    "\n",
    "RoPECache = torch.Tensor\n",
    "\n",
    "\n",
    "\"\"\"\n",
    "My interpretation:\n",
    "- apply identically across sequence length\n",
    "- Pair up subsequent dimensions - (0, 1), (2, 3), (4, 5), (6, 7)\n",
    "- Theta - exponentially decreasing from 1 by a constant (?) factor\n",
    "- seq_idx - sequence indices\n",
    "- Multiply each value in theta by each value in seq_idx, outer product\n",
    "- Each value in this is an angle\n",
    "- Take cos and sin of each angle\n",
    "\n",
    "\"\"\"\n",
    "\n",
    "def build_rope_cache(\n",
    "    seq_len: int, n_elem: int, dtype: torch.dtype, device: torch.device, base: int = 10000\n",
    ") -> RoPECache:\n",
    "    \"\"\"Enhanced Transformer with Rotary Position Embedding.\n",
    "\n",
    "    Derived from: https://github.com/labmlai/annotated_deep_learning_paper_implementations/blob/master/labml_nn/\n",
    "    transformers/rope/__init__.py. MIT License:\n",
    "    https://github.com/labmlai/annotated_deep_learning_paper_implementations/blob/master/license.\n",
    "    \"\"\"\n",
    "    # $\\Theta = {\\theta_i = 10000^{\\frac{2(i-1)}{d}}, i \\in [1, 2, ..., \\frac{d}{2}]}$\n",
    "    theta = 1.0 / (base ** (torch.arange(0, n_elem, 2, dtype=dtype, device=device) / n_elem))\n",
    "\n",
    "    # Create position indexes `[0, 1, ..., seq_len - 1]`\n",
    "    seq_idx = torch.arange(seq_len, dtype=dtype, device=device)\n",
    "\n",
    "    # Calculate the product of position index and $\\theta_i$\n",
    "    idx_theta = torch.outer(seq_idx, theta).float()\n",
    "\n",
    "    cache = torch.stack([torch.cos(idx_theta), torch.sin(idx_theta)], dim=-1)\n",
    "\n",
    "    # this is to mimic the behaviour of complex32, else we will get different results\n",
    "    if dtype in (torch.float16, torch.bfloat16, torch.int8):\n",
    "        cache = cache.half()\n",
    "    return cache"
   ]
  },
  {
   "cell_type": "code",
   "outputs": [],
   "source": [
    "seq_len = 100\n",
    "n_elem = 8\n",
    "dtype = torch.float32\n",
    "device = torch.device(\"mps\")\n",
    "base = 10000"
   ],
   "metadata": {
    "collapsed": false,
    "ExecuteTime": {
     "end_time": "2024-01-21T00:38:15.832887Z",
     "start_time": "2024-01-21T00:38:15.829605Z"
    }
   },
   "id": "cce9dd911aab22fe",
   "execution_count": 62
  },
  {
   "cell_type": "code",
   "outputs": [
    {
     "data": {
      "text/plain": "tensor([1.0000, 0.1000, 0.0100, 0.0010], device='mps:0')"
     },
     "execution_count": 63,
     "metadata": {},
     "output_type": "execute_result"
    }
   ],
   "source": [
    "# $\\Theta = {\\theta_i = 10000^{\\frac{2(i-1)}{d}}, i \\in [1, 2, ..., \\frac{d}{2}]}$\n",
    "theta = 1.0 / (10000 ** (torch.arange(0, n_elem, 2, dtype=dtype, device=device) / n_elem))\n",
    "theta"
   ],
   "metadata": {
    "collapsed": false,
    "ExecuteTime": {
     "end_time": "2024-01-21T00:38:16.238492Z",
     "start_time": "2024-01-21T00:38:16.230945Z"
    }
   },
   "id": "54911922107aeb7",
   "execution_count": 63
  },
  {
   "cell_type": "code",
   "outputs": [],
   "source": [
    "\n",
    "# Create position indexes `[0, 1, ..., seq_len - 1]`\n",
    "seq_idx = torch.arange(seq_len, dtype=dtype, device=device)"
   ],
   "metadata": {
    "collapsed": false,
    "ExecuteTime": {
     "end_time": "2024-01-21T00:38:34.958966Z",
     "start_time": "2024-01-21T00:38:34.954045Z"
    }
   },
   "id": "98e83264edcfa291",
   "execution_count": 64
  },
  {
   "cell_type": "code",
   "outputs": [],
   "source": [
    "\n",
    "# Calculate the product of position index and $\\theta_i$\n",
    "idx_theta = torch.outer(seq_idx, theta).float()"
   ],
   "metadata": {
    "collapsed": false,
    "ExecuteTime": {
     "end_time": "2024-01-21T00:38:36.524032Z",
     "start_time": "2024-01-21T00:38:36.521024Z"
    }
   },
   "id": "fc26adc0f31a4e09",
   "execution_count": 65
  },
  {
   "cell_type": "code",
   "outputs": [
    {
     "data": {
      "text/plain": "torch.Size([100])"
     },
     "execution_count": 66,
     "metadata": {},
     "output_type": "execute_result"
    }
   ],
   "source": [
    "seq_idx.shape"
   ],
   "metadata": {
    "collapsed": false,
    "ExecuteTime": {
     "end_time": "2024-01-21T00:38:37.907956Z",
     "start_time": "2024-01-21T00:38:37.905162Z"
    }
   },
   "id": "d04518320ff950da",
   "execution_count": 66
  },
  {
   "cell_type": "code",
   "outputs": [
    {
     "data": {
      "text/plain": "torch.Size([4])"
     },
     "execution_count": 67,
     "metadata": {},
     "output_type": "execute_result"
    }
   ],
   "source": [
    "theta.shape"
   ],
   "metadata": {
    "collapsed": false,
    "ExecuteTime": {
     "end_time": "2024-01-21T00:38:38.974807Z",
     "start_time": "2024-01-21T00:38:38.972380Z"
    }
   },
   "id": "db4ea20e453c2c86",
   "execution_count": 67
  },
  {
   "cell_type": "code",
   "outputs": [
    {
     "data": {
      "text/plain": "torch.Size([100, 4])"
     },
     "execution_count": 41,
     "metadata": {},
     "output_type": "execute_result"
    }
   ],
   "source": [
    "idx_theta.shape"
   ],
   "metadata": {
    "collapsed": false,
    "ExecuteTime": {
     "end_time": "2024-01-21T00:32:10.902344Z",
     "start_time": "2024-01-21T00:32:10.897847Z"
    }
   },
   "id": "ca487ef368050e3d",
   "execution_count": 41
  },
  {
   "cell_type": "code",
   "outputs": [],
   "source": [
    "\n",
    "cache = torch.stack([torch.cos(idx_theta), torch.sin(idx_theta)], dim=-1)"
   ],
   "metadata": {
    "collapsed": false,
    "ExecuteTime": {
     "end_time": "2024-01-21T00:32:18.648519Z",
     "start_time": "2024-01-21T00:32:18.572715Z"
    }
   },
   "id": "fb100a3100dc8ccc",
   "execution_count": 42
  },
  {
   "cell_type": "code",
   "outputs": [
    {
     "data": {
      "text/plain": "torch.Size([100, 4, 2])"
     },
     "execution_count": 44,
     "metadata": {},
     "output_type": "execute_result"
    }
   ],
   "source": [
    "cache.shape"
   ],
   "metadata": {
    "collapsed": false,
    "ExecuteTime": {
     "end_time": "2024-01-21T00:32:23.469863Z",
     "start_time": "2024-01-21T00:32:23.467023Z"
    }
   },
   "id": "908a9e381ace8642",
   "execution_count": 44
  },
  {
   "cell_type": "code",
   "outputs": [],
   "source": [
    "rope_cache = cache"
   ],
   "metadata": {
    "collapsed": false,
    "ExecuteTime": {
     "end_time": "2024-01-21T13:51:04.289534Z",
     "start_time": "2024-01-21T13:51:04.285582Z"
    }
   },
   "id": "d8d7e195827021d7",
   "execution_count": 69
  },
  {
   "cell_type": "code",
   "outputs": [],
   "source": [
    "# Shape: batch, seq_len, n_heads, n_elem/n_heads\n",
    "x = torch.randn(1, 100, 32, 128)"
   ],
   "metadata": {
    "collapsed": false,
    "ExecuteTime": {
     "end_time": "2024-01-21T14:21:40.436159Z",
     "start_time": "2024-01-21T14:21:40.433723Z"
    }
   },
   "id": "83c25ffffe5cabb",
   "execution_count": 79
  },
  {
   "cell_type": "code",
   "outputs": [],
   "source": [
    "T = x.size(1)\n",
    "\n",
    "\n",
    "rope_cache = rope_cache[:T]"
   ],
   "metadata": {
    "collapsed": false,
    "ExecuteTime": {
     "end_time": "2024-01-21T14:21:41.030922Z",
     "start_time": "2024-01-21T14:21:41.026687Z"
    }
   },
   "id": "d8d767d893c74d63",
   "execution_count": 80
  },
  {
   "cell_type": "code",
   "outputs": [],
   "source": [
    "\n",
    "# cast because the reference does\n",
    "xshaped = x.float().reshape(*x.shape[:-1], -1, 2)"
   ],
   "metadata": {
    "collapsed": false,
    "ExecuteTime": {
     "end_time": "2024-01-21T14:21:41.031479Z",
     "start_time": "2024-01-21T14:21:41.028497Z"
    }
   },
   "id": "5763d2d7cf6814c",
   "execution_count": 81
  },
  {
   "cell_type": "code",
   "outputs": [
    {
     "data": {
      "text/plain": "torch.Size([100, 4, 2])"
     },
     "execution_count": 85,
     "metadata": {},
     "output_type": "execute_result"
    }
   ],
   "source": [
    "rope_cache.shape"
   ],
   "metadata": {
    "collapsed": false,
    "ExecuteTime": {
     "end_time": "2024-01-21T21:17:22.207121Z",
     "start_time": "2024-01-21T21:17:22.203804Z"
    }
   },
   "id": "43b252ce0a52acc1",
   "execution_count": 85
  },
  {
   "cell_type": "code",
   "outputs": [
    {
     "data": {
      "text/plain": "torch.Size([1, 100, 4, 2])"
     },
     "execution_count": 86,
     "metadata": {},
     "output_type": "execute_result"
    }
   ],
   "source": [
    "xshaped.shape"
   ],
   "metadata": {
    "collapsed": false,
    "ExecuteTime": {
     "end_time": "2024-01-21T21:17:22.753072Z",
     "start_time": "2024-01-21T21:17:22.751651Z"
    }
   },
   "id": "ffa999e183c50310",
   "execution_count": 86
  },
  {
   "cell_type": "code",
   "outputs": [
    {
     "ename": "RuntimeError",
     "evalue": "shape '[1, 100, 1, 2, 2]' is invalid for input of size 800",
     "output_type": "error",
     "traceback": [
      "\u001B[0;31m---------------------------------------------------------------------------\u001B[0m",
      "\u001B[0;31mRuntimeError\u001B[0m                              Traceback (most recent call last)",
      "Cell \u001B[0;32mIn[83], line 1\u001B[0m\n\u001B[0;32m----> 1\u001B[0m rope_cache \u001B[38;5;241m=\u001B[39m \u001B[43mrope_cache\u001B[49m\u001B[38;5;241;43m.\u001B[39;49m\u001B[43mview\u001B[49m\u001B[43m(\u001B[49m\u001B[38;5;241;43m1\u001B[39;49m\u001B[43m,\u001B[49m\u001B[43m \u001B[49m\u001B[43mxshaped\u001B[49m\u001B[38;5;241;43m.\u001B[39;49m\u001B[43msize\u001B[49m\u001B[43m(\u001B[49m\u001B[38;5;241;43m1\u001B[39;49m\u001B[43m)\u001B[49m\u001B[43m,\u001B[49m\u001B[43m \u001B[49m\u001B[38;5;241;43m1\u001B[39;49m\u001B[43m,\u001B[49m\u001B[43m \u001B[49m\u001B[43mxshaped\u001B[49m\u001B[38;5;241;43m.\u001B[39;49m\u001B[43msize\u001B[49m\u001B[43m(\u001B[49m\u001B[38;5;241;43m3\u001B[39;49m\u001B[43m)\u001B[49m\u001B[43m,\u001B[49m\u001B[43m \u001B[49m\u001B[38;5;241;43m2\u001B[39;49m\u001B[43m)\u001B[49m\n",
      "\u001B[0;31mRuntimeError\u001B[0m: shape '[1, 100, 1, 2, 2]' is invalid for input of size 800"
     ]
    }
   ],
   "source": [
    "# 1, 100, 1, 2, 2\n",
    "\n",
    "rope_cache = rope_cache.view(1, xshaped.size(1), 1, xshaped.size(3), 2)\n"
   ],
   "metadata": {
    "collapsed": false,
    "ExecuteTime": {
     "end_time": "2024-01-21T14:21:43.648672Z",
     "start_time": "2024-01-21T14:21:43.642217Z"
    }
   },
   "id": "f80559b287b53ae6",
   "execution_count": 83
  },
  {
   "cell_type": "code",
   "outputs": [],
   "source": [
    "\n",
    "x_out2 = torch.stack(\n",
    "    [\n",
    "        xshaped[..., 0] * rope_cache[..., 0] - xshaped[..., 1] * rope_cache[..., 1],\n",
    "        xshaped[..., 1] * rope_cache[..., 0] + xshaped[..., 0] * rope_cache[..., 1],\n",
    "    ],\n",
    "    -1,\n",
    ")\n",
    "\n",
    "x_out2 = x_out2.flatten(3)\n",
    "return x_out2.type_as(x)"
   ],
   "metadata": {
    "collapsed": false,
    "ExecuteTime": {
     "end_time": "2024-01-21T11:44:31.131664Z",
     "start_time": "2024-01-21T11:44:31.125922Z"
    }
   },
   "id": "c569d9ac2b18c121",
   "execution_count": 68
  },
  {
   "cell_type": "code",
   "outputs": [],
   "source": [],
   "metadata": {
    "collapsed": false
   },
   "id": "fbbfebf066beb2fc"
  }
 ],
 "metadata": {
  "kernelspec": {
   "display_name": "Python 3",
   "language": "python",
   "name": "python3"
  },
  "language_info": {
   "codemirror_mode": {
    "name": "ipython",
    "version": 2
   },
   "file_extension": ".py",
   "mimetype": "text/x-python",
   "name": "python",
   "nbconvert_exporter": "python",
   "pygments_lexer": "ipython2",
   "version": "2.7.6"
  }
 },
 "nbformat": 4,
 "nbformat_minor": 5
}
